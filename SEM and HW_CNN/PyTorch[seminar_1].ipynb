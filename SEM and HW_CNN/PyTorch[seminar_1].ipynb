{
  "nbformat": 4,
  "nbformat_minor": 0,
  "metadata": {
    "colab": {
      "provenance": []
    },
    "kernelspec": {
      "name": "python3",
      "display_name": "Python 3"
    },
    "language_info": {
      "name": "python"
    },
    "accelerator": "GPU",
    "gpuClass": "standard",
    "widgets": {
      "application/vnd.jupyter.widget-state+json": {
        "5f57de9ffbd343d5a22db99a0d1343f1": {
          "model_module": "@jupyter-widgets/controls",
          "model_name": "HBoxModel",
          "model_module_version": "1.5.0",
          "state": {
            "_dom_classes": [],
            "_model_module": "@jupyter-widgets/controls",
            "_model_module_version": "1.5.0",
            "_model_name": "HBoxModel",
            "_view_count": null,
            "_view_module": "@jupyter-widgets/controls",
            "_view_module_version": "1.5.0",
            "_view_name": "HBoxView",
            "box_style": "",
            "children": [
              "IPY_MODEL_487259d181944aa28f4daf2b3120a63c",
              "IPY_MODEL_f087dfac43f845d2a44c347ca29b4347",
              "IPY_MODEL_18de6bc0870242859505ca37db0b71e1"
            ],
            "layout": "IPY_MODEL_601cbaca1a864b93a4761ebe44da134f"
          }
        },
        "487259d181944aa28f4daf2b3120a63c": {
          "model_module": "@jupyter-widgets/controls",
          "model_name": "HTMLModel",
          "model_module_version": "1.5.0",
          "state": {
            "_dom_classes": [],
            "_model_module": "@jupyter-widgets/controls",
            "_model_module_version": "1.5.0",
            "_model_name": "HTMLModel",
            "_view_count": null,
            "_view_module": "@jupyter-widgets/controls",
            "_view_module_version": "1.5.0",
            "_view_name": "HTMLView",
            "description": "",
            "description_tooltip": null,
            "layout": "IPY_MODEL_102408d40d8f4eb2bbbab2f956dc3db7",
            "placeholder": "​",
            "style": "IPY_MODEL_95ed849561964261a2006b1117b16bcb",
            "value": "100%"
          }
        },
        "f087dfac43f845d2a44c347ca29b4347": {
          "model_module": "@jupyter-widgets/controls",
          "model_name": "FloatProgressModel",
          "model_module_version": "1.5.0",
          "state": {
            "_dom_classes": [],
            "_model_module": "@jupyter-widgets/controls",
            "_model_module_version": "1.5.0",
            "_model_name": "FloatProgressModel",
            "_view_count": null,
            "_view_module": "@jupyter-widgets/controls",
            "_view_module_version": "1.5.0",
            "_view_name": "ProgressView",
            "bar_style": "success",
            "description": "",
            "description_tooltip": null,
            "layout": "IPY_MODEL_1a64b86984694f9ca897e97634430187",
            "max": 9912422,
            "min": 0,
            "orientation": "horizontal",
            "style": "IPY_MODEL_c56c6b303fce4f48ba11735e2bb83760",
            "value": 9912422
          }
        },
        "18de6bc0870242859505ca37db0b71e1": {
          "model_module": "@jupyter-widgets/controls",
          "model_name": "HTMLModel",
          "model_module_version": "1.5.0",
          "state": {
            "_dom_classes": [],
            "_model_module": "@jupyter-widgets/controls",
            "_model_module_version": "1.5.0",
            "_model_name": "HTMLModel",
            "_view_count": null,
            "_view_module": "@jupyter-widgets/controls",
            "_view_module_version": "1.5.0",
            "_view_name": "HTMLView",
            "description": "",
            "description_tooltip": null,
            "layout": "IPY_MODEL_cd37e96f154b4ec39ca647b575edf7f9",
            "placeholder": "​",
            "style": "IPY_MODEL_6ac6efa5ea4f420aaa69eab1ac3561ec",
            "value": " 9912422/9912422 [00:00&lt;00:00, 219270769.03it/s]"
          }
        },
        "601cbaca1a864b93a4761ebe44da134f": {
          "model_module": "@jupyter-widgets/base",
          "model_name": "LayoutModel",
          "model_module_version": "1.2.0",
          "state": {
            "_model_module": "@jupyter-widgets/base",
            "_model_module_version": "1.2.0",
            "_model_name": "LayoutModel",
            "_view_count": null,
            "_view_module": "@jupyter-widgets/base",
            "_view_module_version": "1.2.0",
            "_view_name": "LayoutView",
            "align_content": null,
            "align_items": null,
            "align_self": null,
            "border": null,
            "bottom": null,
            "display": null,
            "flex": null,
            "flex_flow": null,
            "grid_area": null,
            "grid_auto_columns": null,
            "grid_auto_flow": null,
            "grid_auto_rows": null,
            "grid_column": null,
            "grid_gap": null,
            "grid_row": null,
            "grid_template_areas": null,
            "grid_template_columns": null,
            "grid_template_rows": null,
            "height": null,
            "justify_content": null,
            "justify_items": null,
            "left": null,
            "margin": null,
            "max_height": null,
            "max_width": null,
            "min_height": null,
            "min_width": null,
            "object_fit": null,
            "object_position": null,
            "order": null,
            "overflow": null,
            "overflow_x": null,
            "overflow_y": null,
            "padding": null,
            "right": null,
            "top": null,
            "visibility": null,
            "width": null
          }
        },
        "102408d40d8f4eb2bbbab2f956dc3db7": {
          "model_module": "@jupyter-widgets/base",
          "model_name": "LayoutModel",
          "model_module_version": "1.2.0",
          "state": {
            "_model_module": "@jupyter-widgets/base",
            "_model_module_version": "1.2.0",
            "_model_name": "LayoutModel",
            "_view_count": null,
            "_view_module": "@jupyter-widgets/base",
            "_view_module_version": "1.2.0",
            "_view_name": "LayoutView",
            "align_content": null,
            "align_items": null,
            "align_self": null,
            "border": null,
            "bottom": null,
            "display": null,
            "flex": null,
            "flex_flow": null,
            "grid_area": null,
            "grid_auto_columns": null,
            "grid_auto_flow": null,
            "grid_auto_rows": null,
            "grid_column": null,
            "grid_gap": null,
            "grid_row": null,
            "grid_template_areas": null,
            "grid_template_columns": null,
            "grid_template_rows": null,
            "height": null,
            "justify_content": null,
            "justify_items": null,
            "left": null,
            "margin": null,
            "max_height": null,
            "max_width": null,
            "min_height": null,
            "min_width": null,
            "object_fit": null,
            "object_position": null,
            "order": null,
            "overflow": null,
            "overflow_x": null,
            "overflow_y": null,
            "padding": null,
            "right": null,
            "top": null,
            "visibility": null,
            "width": null
          }
        },
        "95ed849561964261a2006b1117b16bcb": {
          "model_module": "@jupyter-widgets/controls",
          "model_name": "DescriptionStyleModel",
          "model_module_version": "1.5.0",
          "state": {
            "_model_module": "@jupyter-widgets/controls",
            "_model_module_version": "1.5.0",
            "_model_name": "DescriptionStyleModel",
            "_view_count": null,
            "_view_module": "@jupyter-widgets/base",
            "_view_module_version": "1.2.0",
            "_view_name": "StyleView",
            "description_width": ""
          }
        },
        "1a64b86984694f9ca897e97634430187": {
          "model_module": "@jupyter-widgets/base",
          "model_name": "LayoutModel",
          "model_module_version": "1.2.0",
          "state": {
            "_model_module": "@jupyter-widgets/base",
            "_model_module_version": "1.2.0",
            "_model_name": "LayoutModel",
            "_view_count": null,
            "_view_module": "@jupyter-widgets/base",
            "_view_module_version": "1.2.0",
            "_view_name": "LayoutView",
            "align_content": null,
            "align_items": null,
            "align_self": null,
            "border": null,
            "bottom": null,
            "display": null,
            "flex": null,
            "flex_flow": null,
            "grid_area": null,
            "grid_auto_columns": null,
            "grid_auto_flow": null,
            "grid_auto_rows": null,
            "grid_column": null,
            "grid_gap": null,
            "grid_row": null,
            "grid_template_areas": null,
            "grid_template_columns": null,
            "grid_template_rows": null,
            "height": null,
            "justify_content": null,
            "justify_items": null,
            "left": null,
            "margin": null,
            "max_height": null,
            "max_width": null,
            "min_height": null,
            "min_width": null,
            "object_fit": null,
            "object_position": null,
            "order": null,
            "overflow": null,
            "overflow_x": null,
            "overflow_y": null,
            "padding": null,
            "right": null,
            "top": null,
            "visibility": null,
            "width": null
          }
        },
        "c56c6b303fce4f48ba11735e2bb83760": {
          "model_module": "@jupyter-widgets/controls",
          "model_name": "ProgressStyleModel",
          "model_module_version": "1.5.0",
          "state": {
            "_model_module": "@jupyter-widgets/controls",
            "_model_module_version": "1.5.0",
            "_model_name": "ProgressStyleModel",
            "_view_count": null,
            "_view_module": "@jupyter-widgets/base",
            "_view_module_version": "1.2.0",
            "_view_name": "StyleView",
            "bar_color": null,
            "description_width": ""
          }
        },
        "cd37e96f154b4ec39ca647b575edf7f9": {
          "model_module": "@jupyter-widgets/base",
          "model_name": "LayoutModel",
          "model_module_version": "1.2.0",
          "state": {
            "_model_module": "@jupyter-widgets/base",
            "_model_module_version": "1.2.0",
            "_model_name": "LayoutModel",
            "_view_count": null,
            "_view_module": "@jupyter-widgets/base",
            "_view_module_version": "1.2.0",
            "_view_name": "LayoutView",
            "align_content": null,
            "align_items": null,
            "align_self": null,
            "border": null,
            "bottom": null,
            "display": null,
            "flex": null,
            "flex_flow": null,
            "grid_area": null,
            "grid_auto_columns": null,
            "grid_auto_flow": null,
            "grid_auto_rows": null,
            "grid_column": null,
            "grid_gap": null,
            "grid_row": null,
            "grid_template_areas": null,
            "grid_template_columns": null,
            "grid_template_rows": null,
            "height": null,
            "justify_content": null,
            "justify_items": null,
            "left": null,
            "margin": null,
            "max_height": null,
            "max_width": null,
            "min_height": null,
            "min_width": null,
            "object_fit": null,
            "object_position": null,
            "order": null,
            "overflow": null,
            "overflow_x": null,
            "overflow_y": null,
            "padding": null,
            "right": null,
            "top": null,
            "visibility": null,
            "width": null
          }
        },
        "6ac6efa5ea4f420aaa69eab1ac3561ec": {
          "model_module": "@jupyter-widgets/controls",
          "model_name": "DescriptionStyleModel",
          "model_module_version": "1.5.0",
          "state": {
            "_model_module": "@jupyter-widgets/controls",
            "_model_module_version": "1.5.0",
            "_model_name": "DescriptionStyleModel",
            "_view_count": null,
            "_view_module": "@jupyter-widgets/base",
            "_view_module_version": "1.2.0",
            "_view_name": "StyleView",
            "description_width": ""
          }
        },
        "ba5fbe3401874db19a56b31ac705e53f": {
          "model_module": "@jupyter-widgets/controls",
          "model_name": "HBoxModel",
          "model_module_version": "1.5.0",
          "state": {
            "_dom_classes": [],
            "_model_module": "@jupyter-widgets/controls",
            "_model_module_version": "1.5.0",
            "_model_name": "HBoxModel",
            "_view_count": null,
            "_view_module": "@jupyter-widgets/controls",
            "_view_module_version": "1.5.0",
            "_view_name": "HBoxView",
            "box_style": "",
            "children": [
              "IPY_MODEL_48147aa75de544038ddb932f8b3b4954",
              "IPY_MODEL_6fe566bdec5f451cb64e1e18c615d771",
              "IPY_MODEL_dca281c9d98d4099b36963a5682f21df"
            ],
            "layout": "IPY_MODEL_cb774e8219064fb8911ad39325df592b"
          }
        },
        "48147aa75de544038ddb932f8b3b4954": {
          "model_module": "@jupyter-widgets/controls",
          "model_name": "HTMLModel",
          "model_module_version": "1.5.0",
          "state": {
            "_dom_classes": [],
            "_model_module": "@jupyter-widgets/controls",
            "_model_module_version": "1.5.0",
            "_model_name": "HTMLModel",
            "_view_count": null,
            "_view_module": "@jupyter-widgets/controls",
            "_view_module_version": "1.5.0",
            "_view_name": "HTMLView",
            "description": "",
            "description_tooltip": null,
            "layout": "IPY_MODEL_c5bdde11309f4d3396c8601a0e00eaa6",
            "placeholder": "​",
            "style": "IPY_MODEL_da0f656535c5416eb1da39b2ec0350b0",
            "value": "100%"
          }
        },
        "6fe566bdec5f451cb64e1e18c615d771": {
          "model_module": "@jupyter-widgets/controls",
          "model_name": "FloatProgressModel",
          "model_module_version": "1.5.0",
          "state": {
            "_dom_classes": [],
            "_model_module": "@jupyter-widgets/controls",
            "_model_module_version": "1.5.0",
            "_model_name": "FloatProgressModel",
            "_view_count": null,
            "_view_module": "@jupyter-widgets/controls",
            "_view_module_version": "1.5.0",
            "_view_name": "ProgressView",
            "bar_style": "success",
            "description": "",
            "description_tooltip": null,
            "layout": "IPY_MODEL_5b30a9bb8ed04d65a5f6e0c966e37182",
            "max": 28881,
            "min": 0,
            "orientation": "horizontal",
            "style": "IPY_MODEL_53e923fad5ae49be95cd5e8b534ad9ee",
            "value": 28881
          }
        },
        "dca281c9d98d4099b36963a5682f21df": {
          "model_module": "@jupyter-widgets/controls",
          "model_name": "HTMLModel",
          "model_module_version": "1.5.0",
          "state": {
            "_dom_classes": [],
            "_model_module": "@jupyter-widgets/controls",
            "_model_module_version": "1.5.0",
            "_model_name": "HTMLModel",
            "_view_count": null,
            "_view_module": "@jupyter-widgets/controls",
            "_view_module_version": "1.5.0",
            "_view_name": "HTMLView",
            "description": "",
            "description_tooltip": null,
            "layout": "IPY_MODEL_068fda85dd65468abf59168e5147f392",
            "placeholder": "​",
            "style": "IPY_MODEL_e95f1afaa4914eefb48f74bc8c595e74",
            "value": " 28881/28881 [00:00&lt;00:00, 1416245.12it/s]"
          }
        },
        "cb774e8219064fb8911ad39325df592b": {
          "model_module": "@jupyter-widgets/base",
          "model_name": "LayoutModel",
          "model_module_version": "1.2.0",
          "state": {
            "_model_module": "@jupyter-widgets/base",
            "_model_module_version": "1.2.0",
            "_model_name": "LayoutModel",
            "_view_count": null,
            "_view_module": "@jupyter-widgets/base",
            "_view_module_version": "1.2.0",
            "_view_name": "LayoutView",
            "align_content": null,
            "align_items": null,
            "align_self": null,
            "border": null,
            "bottom": null,
            "display": null,
            "flex": null,
            "flex_flow": null,
            "grid_area": null,
            "grid_auto_columns": null,
            "grid_auto_flow": null,
            "grid_auto_rows": null,
            "grid_column": null,
            "grid_gap": null,
            "grid_row": null,
            "grid_template_areas": null,
            "grid_template_columns": null,
            "grid_template_rows": null,
            "height": null,
            "justify_content": null,
            "justify_items": null,
            "left": null,
            "margin": null,
            "max_height": null,
            "max_width": null,
            "min_height": null,
            "min_width": null,
            "object_fit": null,
            "object_position": null,
            "order": null,
            "overflow": null,
            "overflow_x": null,
            "overflow_y": null,
            "padding": null,
            "right": null,
            "top": null,
            "visibility": null,
            "width": null
          }
        },
        "c5bdde11309f4d3396c8601a0e00eaa6": {
          "model_module": "@jupyter-widgets/base",
          "model_name": "LayoutModel",
          "model_module_version": "1.2.0",
          "state": {
            "_model_module": "@jupyter-widgets/base",
            "_model_module_version": "1.2.0",
            "_model_name": "LayoutModel",
            "_view_count": null,
            "_view_module": "@jupyter-widgets/base",
            "_view_module_version": "1.2.0",
            "_view_name": "LayoutView",
            "align_content": null,
            "align_items": null,
            "align_self": null,
            "border": null,
            "bottom": null,
            "display": null,
            "flex": null,
            "flex_flow": null,
            "grid_area": null,
            "grid_auto_columns": null,
            "grid_auto_flow": null,
            "grid_auto_rows": null,
            "grid_column": null,
            "grid_gap": null,
            "grid_row": null,
            "grid_template_areas": null,
            "grid_template_columns": null,
            "grid_template_rows": null,
            "height": null,
            "justify_content": null,
            "justify_items": null,
            "left": null,
            "margin": null,
            "max_height": null,
            "max_width": null,
            "min_height": null,
            "min_width": null,
            "object_fit": null,
            "object_position": null,
            "order": null,
            "overflow": null,
            "overflow_x": null,
            "overflow_y": null,
            "padding": null,
            "right": null,
            "top": null,
            "visibility": null,
            "width": null
          }
        },
        "da0f656535c5416eb1da39b2ec0350b0": {
          "model_module": "@jupyter-widgets/controls",
          "model_name": "DescriptionStyleModel",
          "model_module_version": "1.5.0",
          "state": {
            "_model_module": "@jupyter-widgets/controls",
            "_model_module_version": "1.5.0",
            "_model_name": "DescriptionStyleModel",
            "_view_count": null,
            "_view_module": "@jupyter-widgets/base",
            "_view_module_version": "1.2.0",
            "_view_name": "StyleView",
            "description_width": ""
          }
        },
        "5b30a9bb8ed04d65a5f6e0c966e37182": {
          "model_module": "@jupyter-widgets/base",
          "model_name": "LayoutModel",
          "model_module_version": "1.2.0",
          "state": {
            "_model_module": "@jupyter-widgets/base",
            "_model_module_version": "1.2.0",
            "_model_name": "LayoutModel",
            "_view_count": null,
            "_view_module": "@jupyter-widgets/base",
            "_view_module_version": "1.2.0",
            "_view_name": "LayoutView",
            "align_content": null,
            "align_items": null,
            "align_self": null,
            "border": null,
            "bottom": null,
            "display": null,
            "flex": null,
            "flex_flow": null,
            "grid_area": null,
            "grid_auto_columns": null,
            "grid_auto_flow": null,
            "grid_auto_rows": null,
            "grid_column": null,
            "grid_gap": null,
            "grid_row": null,
            "grid_template_areas": null,
            "grid_template_columns": null,
            "grid_template_rows": null,
            "height": null,
            "justify_content": null,
            "justify_items": null,
            "left": null,
            "margin": null,
            "max_height": null,
            "max_width": null,
            "min_height": null,
            "min_width": null,
            "object_fit": null,
            "object_position": null,
            "order": null,
            "overflow": null,
            "overflow_x": null,
            "overflow_y": null,
            "padding": null,
            "right": null,
            "top": null,
            "visibility": null,
            "width": null
          }
        },
        "53e923fad5ae49be95cd5e8b534ad9ee": {
          "model_module": "@jupyter-widgets/controls",
          "model_name": "ProgressStyleModel",
          "model_module_version": "1.5.0",
          "state": {
            "_model_module": "@jupyter-widgets/controls",
            "_model_module_version": "1.5.0",
            "_model_name": "ProgressStyleModel",
            "_view_count": null,
            "_view_module": "@jupyter-widgets/base",
            "_view_module_version": "1.2.0",
            "_view_name": "StyleView",
            "bar_color": null,
            "description_width": ""
          }
        },
        "068fda85dd65468abf59168e5147f392": {
          "model_module": "@jupyter-widgets/base",
          "model_name": "LayoutModel",
          "model_module_version": "1.2.0",
          "state": {
            "_model_module": "@jupyter-widgets/base",
            "_model_module_version": "1.2.0",
            "_model_name": "LayoutModel",
            "_view_count": null,
            "_view_module": "@jupyter-widgets/base",
            "_view_module_version": "1.2.0",
            "_view_name": "LayoutView",
            "align_content": null,
            "align_items": null,
            "align_self": null,
            "border": null,
            "bottom": null,
            "display": null,
            "flex": null,
            "flex_flow": null,
            "grid_area": null,
            "grid_auto_columns": null,
            "grid_auto_flow": null,
            "grid_auto_rows": null,
            "grid_column": null,
            "grid_gap": null,
            "grid_row": null,
            "grid_template_areas": null,
            "grid_template_columns": null,
            "grid_template_rows": null,
            "height": null,
            "justify_content": null,
            "justify_items": null,
            "left": null,
            "margin": null,
            "max_height": null,
            "max_width": null,
            "min_height": null,
            "min_width": null,
            "object_fit": null,
            "object_position": null,
            "order": null,
            "overflow": null,
            "overflow_x": null,
            "overflow_y": null,
            "padding": null,
            "right": null,
            "top": null,
            "visibility": null,
            "width": null
          }
        },
        "e95f1afaa4914eefb48f74bc8c595e74": {
          "model_module": "@jupyter-widgets/controls",
          "model_name": "DescriptionStyleModel",
          "model_module_version": "1.5.0",
          "state": {
            "_model_module": "@jupyter-widgets/controls",
            "_model_module_version": "1.5.0",
            "_model_name": "DescriptionStyleModel",
            "_view_count": null,
            "_view_module": "@jupyter-widgets/base",
            "_view_module_version": "1.2.0",
            "_view_name": "StyleView",
            "description_width": ""
          }
        },
        "d5e7da4c3abb431dbd04fb58c7f17948": {
          "model_module": "@jupyter-widgets/controls",
          "model_name": "HBoxModel",
          "model_module_version": "1.5.0",
          "state": {
            "_dom_classes": [],
            "_model_module": "@jupyter-widgets/controls",
            "_model_module_version": "1.5.0",
            "_model_name": "HBoxModel",
            "_view_count": null,
            "_view_module": "@jupyter-widgets/controls",
            "_view_module_version": "1.5.0",
            "_view_name": "HBoxView",
            "box_style": "",
            "children": [
              "IPY_MODEL_b8965147af1c4e058800c1cb1867d9b8",
              "IPY_MODEL_5535a765071243da960da600e6ef2b79",
              "IPY_MODEL_032835ee708b439a9894875b4688d315"
            ],
            "layout": "IPY_MODEL_c947f306a8fa426c818f68a8e33524cb"
          }
        },
        "b8965147af1c4e058800c1cb1867d9b8": {
          "model_module": "@jupyter-widgets/controls",
          "model_name": "HTMLModel",
          "model_module_version": "1.5.0",
          "state": {
            "_dom_classes": [],
            "_model_module": "@jupyter-widgets/controls",
            "_model_module_version": "1.5.0",
            "_model_name": "HTMLModel",
            "_view_count": null,
            "_view_module": "@jupyter-widgets/controls",
            "_view_module_version": "1.5.0",
            "_view_name": "HTMLView",
            "description": "",
            "description_tooltip": null,
            "layout": "IPY_MODEL_d8818f3f6f8a45d484105212a8a8673a",
            "placeholder": "​",
            "style": "IPY_MODEL_75a606423a3749b9afd964dfc875b7ba",
            "value": "100%"
          }
        },
        "5535a765071243da960da600e6ef2b79": {
          "model_module": "@jupyter-widgets/controls",
          "model_name": "FloatProgressModel",
          "model_module_version": "1.5.0",
          "state": {
            "_dom_classes": [],
            "_model_module": "@jupyter-widgets/controls",
            "_model_module_version": "1.5.0",
            "_model_name": "FloatProgressModel",
            "_view_count": null,
            "_view_module": "@jupyter-widgets/controls",
            "_view_module_version": "1.5.0",
            "_view_name": "ProgressView",
            "bar_style": "success",
            "description": "",
            "description_tooltip": null,
            "layout": "IPY_MODEL_a8385626196d4fe0bc81ff9df1b9cc32",
            "max": 1648877,
            "min": 0,
            "orientation": "horizontal",
            "style": "IPY_MODEL_0b66ea71d96f4e1ea78ac42b5edff948",
            "value": 1648877
          }
        },
        "032835ee708b439a9894875b4688d315": {
          "model_module": "@jupyter-widgets/controls",
          "model_name": "HTMLModel",
          "model_module_version": "1.5.0",
          "state": {
            "_dom_classes": [],
            "_model_module": "@jupyter-widgets/controls",
            "_model_module_version": "1.5.0",
            "_model_name": "HTMLModel",
            "_view_count": null,
            "_view_module": "@jupyter-widgets/controls",
            "_view_module_version": "1.5.0",
            "_view_name": "HTMLView",
            "description": "",
            "description_tooltip": null,
            "layout": "IPY_MODEL_840217f9c19547fe983a61518613bc44",
            "placeholder": "​",
            "style": "IPY_MODEL_54ff249a2f0e46d9bc507088465e0642",
            "value": " 1648877/1648877 [00:00&lt;00:00, 28839646.37it/s]"
          }
        },
        "c947f306a8fa426c818f68a8e33524cb": {
          "model_module": "@jupyter-widgets/base",
          "model_name": "LayoutModel",
          "model_module_version": "1.2.0",
          "state": {
            "_model_module": "@jupyter-widgets/base",
            "_model_module_version": "1.2.0",
            "_model_name": "LayoutModel",
            "_view_count": null,
            "_view_module": "@jupyter-widgets/base",
            "_view_module_version": "1.2.0",
            "_view_name": "LayoutView",
            "align_content": null,
            "align_items": null,
            "align_self": null,
            "border": null,
            "bottom": null,
            "display": null,
            "flex": null,
            "flex_flow": null,
            "grid_area": null,
            "grid_auto_columns": null,
            "grid_auto_flow": null,
            "grid_auto_rows": null,
            "grid_column": null,
            "grid_gap": null,
            "grid_row": null,
            "grid_template_areas": null,
            "grid_template_columns": null,
            "grid_template_rows": null,
            "height": null,
            "justify_content": null,
            "justify_items": null,
            "left": null,
            "margin": null,
            "max_height": null,
            "max_width": null,
            "min_height": null,
            "min_width": null,
            "object_fit": null,
            "object_position": null,
            "order": null,
            "overflow": null,
            "overflow_x": null,
            "overflow_y": null,
            "padding": null,
            "right": null,
            "top": null,
            "visibility": null,
            "width": null
          }
        },
        "d8818f3f6f8a45d484105212a8a8673a": {
          "model_module": "@jupyter-widgets/base",
          "model_name": "LayoutModel",
          "model_module_version": "1.2.0",
          "state": {
            "_model_module": "@jupyter-widgets/base",
            "_model_module_version": "1.2.0",
            "_model_name": "LayoutModel",
            "_view_count": null,
            "_view_module": "@jupyter-widgets/base",
            "_view_module_version": "1.2.0",
            "_view_name": "LayoutView",
            "align_content": null,
            "align_items": null,
            "align_self": null,
            "border": null,
            "bottom": null,
            "display": null,
            "flex": null,
            "flex_flow": null,
            "grid_area": null,
            "grid_auto_columns": null,
            "grid_auto_flow": null,
            "grid_auto_rows": null,
            "grid_column": null,
            "grid_gap": null,
            "grid_row": null,
            "grid_template_areas": null,
            "grid_template_columns": null,
            "grid_template_rows": null,
            "height": null,
            "justify_content": null,
            "justify_items": null,
            "left": null,
            "margin": null,
            "max_height": null,
            "max_width": null,
            "min_height": null,
            "min_width": null,
            "object_fit": null,
            "object_position": null,
            "order": null,
            "overflow": null,
            "overflow_x": null,
            "overflow_y": null,
            "padding": null,
            "right": null,
            "top": null,
            "visibility": null,
            "width": null
          }
        },
        "75a606423a3749b9afd964dfc875b7ba": {
          "model_module": "@jupyter-widgets/controls",
          "model_name": "DescriptionStyleModel",
          "model_module_version": "1.5.0",
          "state": {
            "_model_module": "@jupyter-widgets/controls",
            "_model_module_version": "1.5.0",
            "_model_name": "DescriptionStyleModel",
            "_view_count": null,
            "_view_module": "@jupyter-widgets/base",
            "_view_module_version": "1.2.0",
            "_view_name": "StyleView",
            "description_width": ""
          }
        },
        "a8385626196d4fe0bc81ff9df1b9cc32": {
          "model_module": "@jupyter-widgets/base",
          "model_name": "LayoutModel",
          "model_module_version": "1.2.0",
          "state": {
            "_model_module": "@jupyter-widgets/base",
            "_model_module_version": "1.2.0",
            "_model_name": "LayoutModel",
            "_view_count": null,
            "_view_module": "@jupyter-widgets/base",
            "_view_module_version": "1.2.0",
            "_view_name": "LayoutView",
            "align_content": null,
            "align_items": null,
            "align_self": null,
            "border": null,
            "bottom": null,
            "display": null,
            "flex": null,
            "flex_flow": null,
            "grid_area": null,
            "grid_auto_columns": null,
            "grid_auto_flow": null,
            "grid_auto_rows": null,
            "grid_column": null,
            "grid_gap": null,
            "grid_row": null,
            "grid_template_areas": null,
            "grid_template_columns": null,
            "grid_template_rows": null,
            "height": null,
            "justify_content": null,
            "justify_items": null,
            "left": null,
            "margin": null,
            "max_height": null,
            "max_width": null,
            "min_height": null,
            "min_width": null,
            "object_fit": null,
            "object_position": null,
            "order": null,
            "overflow": null,
            "overflow_x": null,
            "overflow_y": null,
            "padding": null,
            "right": null,
            "top": null,
            "visibility": null,
            "width": null
          }
        },
        "0b66ea71d96f4e1ea78ac42b5edff948": {
          "model_module": "@jupyter-widgets/controls",
          "model_name": "ProgressStyleModel",
          "model_module_version": "1.5.0",
          "state": {
            "_model_module": "@jupyter-widgets/controls",
            "_model_module_version": "1.5.0",
            "_model_name": "ProgressStyleModel",
            "_view_count": null,
            "_view_module": "@jupyter-widgets/base",
            "_view_module_version": "1.2.0",
            "_view_name": "StyleView",
            "bar_color": null,
            "description_width": ""
          }
        },
        "840217f9c19547fe983a61518613bc44": {
          "model_module": "@jupyter-widgets/base",
          "model_name": "LayoutModel",
          "model_module_version": "1.2.0",
          "state": {
            "_model_module": "@jupyter-widgets/base",
            "_model_module_version": "1.2.0",
            "_model_name": "LayoutModel",
            "_view_count": null,
            "_view_module": "@jupyter-widgets/base",
            "_view_module_version": "1.2.0",
            "_view_name": "LayoutView",
            "align_content": null,
            "align_items": null,
            "align_self": null,
            "border": null,
            "bottom": null,
            "display": null,
            "flex": null,
            "flex_flow": null,
            "grid_area": null,
            "grid_auto_columns": null,
            "grid_auto_flow": null,
            "grid_auto_rows": null,
            "grid_column": null,
            "grid_gap": null,
            "grid_row": null,
            "grid_template_areas": null,
            "grid_template_columns": null,
            "grid_template_rows": null,
            "height": null,
            "justify_content": null,
            "justify_items": null,
            "left": null,
            "margin": null,
            "max_height": null,
            "max_width": null,
            "min_height": null,
            "min_width": null,
            "object_fit": null,
            "object_position": null,
            "order": null,
            "overflow": null,
            "overflow_x": null,
            "overflow_y": null,
            "padding": null,
            "right": null,
            "top": null,
            "visibility": null,
            "width": null
          }
        },
        "54ff249a2f0e46d9bc507088465e0642": {
          "model_module": "@jupyter-widgets/controls",
          "model_name": "DescriptionStyleModel",
          "model_module_version": "1.5.0",
          "state": {
            "_model_module": "@jupyter-widgets/controls",
            "_model_module_version": "1.5.0",
            "_model_name": "DescriptionStyleModel",
            "_view_count": null,
            "_view_module": "@jupyter-widgets/base",
            "_view_module_version": "1.2.0",
            "_view_name": "StyleView",
            "description_width": ""
          }
        },
        "d8a2002ad96f46b281ab90eddeb22ed4": {
          "model_module": "@jupyter-widgets/controls",
          "model_name": "HBoxModel",
          "model_module_version": "1.5.0",
          "state": {
            "_dom_classes": [],
            "_model_module": "@jupyter-widgets/controls",
            "_model_module_version": "1.5.0",
            "_model_name": "HBoxModel",
            "_view_count": null,
            "_view_module": "@jupyter-widgets/controls",
            "_view_module_version": "1.5.0",
            "_view_name": "HBoxView",
            "box_style": "",
            "children": [
              "IPY_MODEL_4fe39b4151784d96b8be09cbd236b038",
              "IPY_MODEL_0464b4c67afd495aa484e75ffae73c3d",
              "IPY_MODEL_871b8e86919640c8b622669823c8a2d4"
            ],
            "layout": "IPY_MODEL_518b15e9782747bfbbd0eb0aa4f0d9f9"
          }
        },
        "4fe39b4151784d96b8be09cbd236b038": {
          "model_module": "@jupyter-widgets/controls",
          "model_name": "HTMLModel",
          "model_module_version": "1.5.0",
          "state": {
            "_dom_classes": [],
            "_model_module": "@jupyter-widgets/controls",
            "_model_module_version": "1.5.0",
            "_model_name": "HTMLModel",
            "_view_count": null,
            "_view_module": "@jupyter-widgets/controls",
            "_view_module_version": "1.5.0",
            "_view_name": "HTMLView",
            "description": "",
            "description_tooltip": null,
            "layout": "IPY_MODEL_750cb7e19bc9450fb0016235f4908ebc",
            "placeholder": "​",
            "style": "IPY_MODEL_f94be870c5d04c47ae46008877b083b9",
            "value": "100%"
          }
        },
        "0464b4c67afd495aa484e75ffae73c3d": {
          "model_module": "@jupyter-widgets/controls",
          "model_name": "FloatProgressModel",
          "model_module_version": "1.5.0",
          "state": {
            "_dom_classes": [],
            "_model_module": "@jupyter-widgets/controls",
            "_model_module_version": "1.5.0",
            "_model_name": "FloatProgressModel",
            "_view_count": null,
            "_view_module": "@jupyter-widgets/controls",
            "_view_module_version": "1.5.0",
            "_view_name": "ProgressView",
            "bar_style": "success",
            "description": "",
            "description_tooltip": null,
            "layout": "IPY_MODEL_0f698718908c439e830b7f3b475fc148",
            "max": 4542,
            "min": 0,
            "orientation": "horizontal",
            "style": "IPY_MODEL_4857f82ba3f44fa19d14326f79529ae1",
            "value": 4542
          }
        },
        "871b8e86919640c8b622669823c8a2d4": {
          "model_module": "@jupyter-widgets/controls",
          "model_name": "HTMLModel",
          "model_module_version": "1.5.0",
          "state": {
            "_dom_classes": [],
            "_model_module": "@jupyter-widgets/controls",
            "_model_module_version": "1.5.0",
            "_model_name": "HTMLModel",
            "_view_count": null,
            "_view_module": "@jupyter-widgets/controls",
            "_view_module_version": "1.5.0",
            "_view_name": "HTMLView",
            "description": "",
            "description_tooltip": null,
            "layout": "IPY_MODEL_45e63ebb033044a8afa4cf5bb92ae7c7",
            "placeholder": "​",
            "style": "IPY_MODEL_3dda03a6ca9346e881f6146636b90b7f",
            "value": " 4542/4542 [00:00&lt;00:00, 150013.61it/s]"
          }
        },
        "518b15e9782747bfbbd0eb0aa4f0d9f9": {
          "model_module": "@jupyter-widgets/base",
          "model_name": "LayoutModel",
          "model_module_version": "1.2.0",
          "state": {
            "_model_module": "@jupyter-widgets/base",
            "_model_module_version": "1.2.0",
            "_model_name": "LayoutModel",
            "_view_count": null,
            "_view_module": "@jupyter-widgets/base",
            "_view_module_version": "1.2.0",
            "_view_name": "LayoutView",
            "align_content": null,
            "align_items": null,
            "align_self": null,
            "border": null,
            "bottom": null,
            "display": null,
            "flex": null,
            "flex_flow": null,
            "grid_area": null,
            "grid_auto_columns": null,
            "grid_auto_flow": null,
            "grid_auto_rows": null,
            "grid_column": null,
            "grid_gap": null,
            "grid_row": null,
            "grid_template_areas": null,
            "grid_template_columns": null,
            "grid_template_rows": null,
            "height": null,
            "justify_content": null,
            "justify_items": null,
            "left": null,
            "margin": null,
            "max_height": null,
            "max_width": null,
            "min_height": null,
            "min_width": null,
            "object_fit": null,
            "object_position": null,
            "order": null,
            "overflow": null,
            "overflow_x": null,
            "overflow_y": null,
            "padding": null,
            "right": null,
            "top": null,
            "visibility": null,
            "width": null
          }
        },
        "750cb7e19bc9450fb0016235f4908ebc": {
          "model_module": "@jupyter-widgets/base",
          "model_name": "LayoutModel",
          "model_module_version": "1.2.0",
          "state": {
            "_model_module": "@jupyter-widgets/base",
            "_model_module_version": "1.2.0",
            "_model_name": "LayoutModel",
            "_view_count": null,
            "_view_module": "@jupyter-widgets/base",
            "_view_module_version": "1.2.0",
            "_view_name": "LayoutView",
            "align_content": null,
            "align_items": null,
            "align_self": null,
            "border": null,
            "bottom": null,
            "display": null,
            "flex": null,
            "flex_flow": null,
            "grid_area": null,
            "grid_auto_columns": null,
            "grid_auto_flow": null,
            "grid_auto_rows": null,
            "grid_column": null,
            "grid_gap": null,
            "grid_row": null,
            "grid_template_areas": null,
            "grid_template_columns": null,
            "grid_template_rows": null,
            "height": null,
            "justify_content": null,
            "justify_items": null,
            "left": null,
            "margin": null,
            "max_height": null,
            "max_width": null,
            "min_height": null,
            "min_width": null,
            "object_fit": null,
            "object_position": null,
            "order": null,
            "overflow": null,
            "overflow_x": null,
            "overflow_y": null,
            "padding": null,
            "right": null,
            "top": null,
            "visibility": null,
            "width": null
          }
        },
        "f94be870c5d04c47ae46008877b083b9": {
          "model_module": "@jupyter-widgets/controls",
          "model_name": "DescriptionStyleModel",
          "model_module_version": "1.5.0",
          "state": {
            "_model_module": "@jupyter-widgets/controls",
            "_model_module_version": "1.5.0",
            "_model_name": "DescriptionStyleModel",
            "_view_count": null,
            "_view_module": "@jupyter-widgets/base",
            "_view_module_version": "1.2.0",
            "_view_name": "StyleView",
            "description_width": ""
          }
        },
        "0f698718908c439e830b7f3b475fc148": {
          "model_module": "@jupyter-widgets/base",
          "model_name": "LayoutModel",
          "model_module_version": "1.2.0",
          "state": {
            "_model_module": "@jupyter-widgets/base",
            "_model_module_version": "1.2.0",
            "_model_name": "LayoutModel",
            "_view_count": null,
            "_view_module": "@jupyter-widgets/base",
            "_view_module_version": "1.2.0",
            "_view_name": "LayoutView",
            "align_content": null,
            "align_items": null,
            "align_self": null,
            "border": null,
            "bottom": null,
            "display": null,
            "flex": null,
            "flex_flow": null,
            "grid_area": null,
            "grid_auto_columns": null,
            "grid_auto_flow": null,
            "grid_auto_rows": null,
            "grid_column": null,
            "grid_gap": null,
            "grid_row": null,
            "grid_template_areas": null,
            "grid_template_columns": null,
            "grid_template_rows": null,
            "height": null,
            "justify_content": null,
            "justify_items": null,
            "left": null,
            "margin": null,
            "max_height": null,
            "max_width": null,
            "min_height": null,
            "min_width": null,
            "object_fit": null,
            "object_position": null,
            "order": null,
            "overflow": null,
            "overflow_x": null,
            "overflow_y": null,
            "padding": null,
            "right": null,
            "top": null,
            "visibility": null,
            "width": null
          }
        },
        "4857f82ba3f44fa19d14326f79529ae1": {
          "model_module": "@jupyter-widgets/controls",
          "model_name": "ProgressStyleModel",
          "model_module_version": "1.5.0",
          "state": {
            "_model_module": "@jupyter-widgets/controls",
            "_model_module_version": "1.5.0",
            "_model_name": "ProgressStyleModel",
            "_view_count": null,
            "_view_module": "@jupyter-widgets/base",
            "_view_module_version": "1.2.0",
            "_view_name": "StyleView",
            "bar_color": null,
            "description_width": ""
          }
        },
        "45e63ebb033044a8afa4cf5bb92ae7c7": {
          "model_module": "@jupyter-widgets/base",
          "model_name": "LayoutModel",
          "model_module_version": "1.2.0",
          "state": {
            "_model_module": "@jupyter-widgets/base",
            "_model_module_version": "1.2.0",
            "_model_name": "LayoutModel",
            "_view_count": null,
            "_view_module": "@jupyter-widgets/base",
            "_view_module_version": "1.2.0",
            "_view_name": "LayoutView",
            "align_content": null,
            "align_items": null,
            "align_self": null,
            "border": null,
            "bottom": null,
            "display": null,
            "flex": null,
            "flex_flow": null,
            "grid_area": null,
            "grid_auto_columns": null,
            "grid_auto_flow": null,
            "grid_auto_rows": null,
            "grid_column": null,
            "grid_gap": null,
            "grid_row": null,
            "grid_template_areas": null,
            "grid_template_columns": null,
            "grid_template_rows": null,
            "height": null,
            "justify_content": null,
            "justify_items": null,
            "left": null,
            "margin": null,
            "max_height": null,
            "max_width": null,
            "min_height": null,
            "min_width": null,
            "object_fit": null,
            "object_position": null,
            "order": null,
            "overflow": null,
            "overflow_x": null,
            "overflow_y": null,
            "padding": null,
            "right": null,
            "top": null,
            "visibility": null,
            "width": null
          }
        },
        "3dda03a6ca9346e881f6146636b90b7f": {
          "model_module": "@jupyter-widgets/controls",
          "model_name": "DescriptionStyleModel",
          "model_module_version": "1.5.0",
          "state": {
            "_model_module": "@jupyter-widgets/controls",
            "_model_module_version": "1.5.0",
            "_model_name": "DescriptionStyleModel",
            "_view_count": null,
            "_view_module": "@jupyter-widgets/base",
            "_view_module_version": "1.2.0",
            "_view_name": "StyleView",
            "description_width": ""
          }
        }
      }
    }
  },
  "cells": [
    {
      "cell_type": "code",
      "execution_count": 1,
      "metadata": {
        "id": "glciYrXCR_h0"
      },
      "outputs": [],
      "source": [
        "import torch"
      ]
    },
    {
      "cell_type": "markdown",
      "source": [
        "Создание тензора"
      ],
      "metadata": {
        "id": "JNmX_EFYXein"
      }
    },
    {
      "cell_type": "code",
      "source": [
        "torch.HalfTensor    # 16 bit, floating point\n",
        "torch.FloatTensor   # 32 bit, floating point\n",
        "torch.DoubleTensor  # 64 bit, floating point\n",
        "\n",
        "torch.ShortTensor   # 16 bit, int, signed\n",
        "torch.IntTensor     # 32 bit, int, signed\n",
        "torch.LongTensor    # 64 bit, int, signed\n",
        "\n",
        "torch.CharTensor    # 8 bit, int, signed\n",
        "torch.ByteTensor    # 8 bit, int, unsignde"
      ],
      "metadata": {
        "colab": {
          "base_uri": "https://localhost:8080/"
        },
        "id": "v57sJ4__SbFn",
        "outputId": "7a9762f3-4978-4baa-9eb3-0839a4adde74"
      },
      "execution_count": 2,
      "outputs": [
        {
          "output_type": "execute_result",
          "data": {
            "text/plain": [
              "torch.ByteTensor"
            ]
          },
          "metadata": {},
          "execution_count": 2
        }
      ]
    },
    {
      "cell_type": "code",
      "source": [
        "a = torch.FloatTensor([1, 2])\n",
        "a"
      ],
      "metadata": {
        "colab": {
          "base_uri": "https://localhost:8080/"
        },
        "id": "M_G-3nXZUC2y",
        "outputId": "257a8cee-7da2-450d-c38a-de86cbfdba48"
      },
      "execution_count": 3,
      "outputs": [
        {
          "output_type": "execute_result",
          "data": {
            "text/plain": [
              "tensor([1., 2.])"
            ]
          },
          "metadata": {},
          "execution_count": 3
        }
      ]
    },
    {
      "cell_type": "code",
      "source": [
        "a.shape"
      ],
      "metadata": {
        "colab": {
          "base_uri": "https://localhost:8080/"
        },
        "id": "8D144ZqIUI2k",
        "outputId": "6b335760-bb84-490b-dc5a-f35fca9f9426"
      },
      "execution_count": 4,
      "outputs": [
        {
          "output_type": "execute_result",
          "data": {
            "text/plain": [
              "torch.Size([2])"
            ]
          },
          "metadata": {},
          "execution_count": 4
        }
      ]
    },
    {
      "cell_type": "code",
      "source": [
        "b = torch.FloatTensor([[1, 2, 3],\n",
        "                       [4, 5, 6]])\n",
        "b"
      ],
      "metadata": {
        "colab": {
          "base_uri": "https://localhost:8080/"
        },
        "id": "pUKy85rpULud",
        "outputId": "5de16b26-36f9-4573-978b-ea8a6808633e"
      },
      "execution_count": 5,
      "outputs": [
        {
          "output_type": "execute_result",
          "data": {
            "text/plain": [
              "tensor([[1., 2., 3.],\n",
              "        [4., 5., 6.]])"
            ]
          },
          "metadata": {},
          "execution_count": 5
        }
      ]
    },
    {
      "cell_type": "code",
      "source": [
        "b.shape"
      ],
      "metadata": {
        "colab": {
          "base_uri": "https://localhost:8080/"
        },
        "id": "W5_gAxPnUTw5",
        "outputId": "29c33535-de58-43c8-c2df-80897485bc8d"
      },
      "execution_count": 6,
      "outputs": [
        {
          "output_type": "execute_result",
          "data": {
            "text/plain": [
              "torch.Size([2, 3])"
            ]
          },
          "metadata": {},
          "execution_count": 6
        }
      ]
    },
    {
      "cell_type": "code",
      "source": [
        "x = torch.FloatTensor(2, 3, 4)\n",
        "x"
      ],
      "metadata": {
        "colab": {
          "base_uri": "https://localhost:8080/"
        },
        "id": "sweRXJDtUV8l",
        "outputId": "8e89d009-9313-4e2d-ff79-226409c9c997"
      },
      "execution_count": 7,
      "outputs": [
        {
          "output_type": "execute_result",
          "data": {
            "text/plain": [
              "tensor([[[8.1933e-10, 4.1996e-08, 2.1707e-18, 1.6678e+19],\n",
              "         [7.0976e+22, 2.1715e-18, 4.2330e+21, 1.6534e+19],\n",
              "         [1.1625e+27, 1.4580e-19, 7.1856e+22, 4.3605e+27]],\n",
              "\n",
              "        [[1.5766e-19, 7.1856e+22, 4.3605e+27, 1.4580e-19],\n",
              "         [1.8179e+31, 1.8524e+28, 2.1715e-18, 6.7504e-07],\n",
              "         [4.1532e-08, 1.0872e-05, 1.7664e-04, 2.7448e-06]]])"
            ]
          },
          "metadata": {},
          "execution_count": 7
        }
      ]
    },
    {
      "cell_type": "code",
      "source": [
        "x = torch.FloatTensor(100)\n",
        "x"
      ],
      "metadata": {
        "colab": {
          "base_uri": "https://localhost:8080/"
        },
        "id": "MF5xgZsRUgJ_",
        "outputId": "2be47b22-2ea4-4bc2-f6bf-0139e4eee36e"
      },
      "execution_count": 8,
      "outputs": [
        {
          "output_type": "execute_result",
          "data": {
            "text/plain": [
              "tensor([ 4.2651e+08,  4.5810e-41,  4.2651e+08,  4.5810e-41,  1.4998e-34,\n",
              "         0.0000e+00,  1.4998e-34,  0.0000e+00,  0.0000e+00,  0.0000e+00,\n",
              "         0.0000e+00,  0.0000e+00,  0.0000e+00,  0.0000e+00,  0.0000e+00,\n",
              "         0.0000e+00,  0.0000e+00,  0.0000e+00,  0.0000e+00,  0.0000e+00,\n",
              "         0.0000e+00,  0.0000e+00,  0.0000e+00,  0.0000e+00,  0.0000e+00,\n",
              "         0.0000e+00, -1.3873e-27,  4.5808e-41, -1.3873e-27,  4.5808e-41,\n",
              "         0.0000e+00,  0.0000e+00,  0.0000e+00,  0.0000e+00,  0.0000e+00,\n",
              "         0.0000e+00,  0.0000e+00,  0.0000e+00,  0.0000e+00,  0.0000e+00,\n",
              "         0.0000e+00,  0.0000e+00,  0.0000e+00,  0.0000e+00,  0.0000e+00,\n",
              "         0.0000e+00,  0.0000e+00,  0.0000e+00,  0.0000e+00,  0.0000e+00,\n",
              "         0.0000e+00,  0.0000e+00,  0.0000e+00,  0.0000e+00,  0.0000e+00,\n",
              "         0.0000e+00,  0.0000e+00,  0.0000e+00,  0.0000e+00,  0.0000e+00,\n",
              "         0.0000e+00,  0.0000e+00,  0.0000e+00,  0.0000e+00,  0.0000e+00,\n",
              "         0.0000e+00,  0.0000e+00,  0.0000e+00,  0.0000e+00,  0.0000e+00,\n",
              "         0.0000e+00,  0.0000e+00,  0.0000e+00,  0.0000e+00,  0.0000e+00,\n",
              "         0.0000e+00,  0.0000e+00,  0.0000e+00,  0.0000e+00,  0.0000e+00,\n",
              "         0.0000e+00,  0.0000e+00,  0.0000e+00,  0.0000e+00,  0.0000e+00,\n",
              "         0.0000e+00,  0.0000e+00,  0.0000e+00,  0.0000e+00,  0.0000e+00,\n",
              "         0.0000e+00,  0.0000e+00,  0.0000e+00,  0.0000e+00,  0.0000e+00,\n",
              "         0.0000e+00,  0.0000e+00,  0.0000e+00,  0.0000e+00,  0.0000e+00])"
            ]
          },
          "metadata": {},
          "execution_count": 8
        }
      ]
    },
    {
      "cell_type": "code",
      "source": [
        "x.shape"
      ],
      "metadata": {
        "colab": {
          "base_uri": "https://localhost:8080/"
        },
        "id": "EBzbiy2EUlxe",
        "outputId": "30f49562-3236-44ef-c4f2-28e090320adc"
      },
      "execution_count": 9,
      "outputs": [
        {
          "output_type": "execute_result",
          "data": {
            "text/plain": [
              "torch.Size([100])"
            ]
          },
          "metadata": {},
          "execution_count": 9
        }
      ]
    },
    {
      "cell_type": "code",
      "source": [
        "x = torch.IntTensor(45, 57, 14, 2)"
      ],
      "metadata": {
        "id": "IWZMaH71UolK"
      },
      "execution_count": 10,
      "outputs": []
    },
    {
      "cell_type": "markdown",
      "source": [
        "Инициализация"
      ],
      "metadata": {
        "id": "RyVtWFCHXbge"
      }
    },
    {
      "cell_type": "code",
      "source": [
        "x1 = torch.FloatTensor(3, 2, 4)\n",
        "x1.zero_()\n",
        "x2 = torch.zeros(3, 2, 4)\n",
        "x3 = torch.zeros_like(x1)\n",
        "\n",
        "assert torch.allclose(x1, x2) and torch.allclose(x1, x3)"
      ],
      "metadata": {
        "id": "oGVqvCZyUvie"
      },
      "execution_count": 11,
      "outputs": []
    },
    {
      "cell_type": "code",
      "source": [
        "x = torch.randn((2, 3))     #Normal(1, 0) size(2, 3)\n",
        "x"
      ],
      "metadata": {
        "colab": {
          "base_uri": "https://localhost:8080/"
        },
        "id": "UYxKHK9wU870",
        "outputId": "2d9f813b-6092-49a0-dd6b-e6f74f379366"
      },
      "execution_count": 12,
      "outputs": [
        {
          "output_type": "execute_result",
          "data": {
            "text/plain": [
              "tensor([[ 0.9557,  0.7779, -1.1495],\n",
              "        [ 0.7201,  0.7468, -0.5782]])"
            ]
          },
          "metadata": {},
          "execution_count": 12
        }
      ]
    },
    {
      "cell_type": "code",
      "source": [
        "x.random_(0, 10)             # Дискретное равномерно U[0, 10]\n",
        "x.uniform_(0, 1)            # Равномерно U[0, 1]\n",
        "x.normal_(mean=0, std=1)    # Нормальное со средним 0 и дисперсией 1\n",
        "x.bernoulli_(p=0.5)         # bernoulli with parametr p 0.5"
      ],
      "metadata": {
        "colab": {
          "base_uri": "https://localhost:8080/"
        },
        "id": "7hiqjhSbVho5",
        "outputId": "d9e72c8a-673d-498b-a40d-dea0d2a1bded"
      },
      "execution_count": 13,
      "outputs": [
        {
          "output_type": "execute_result",
          "data": {
            "text/plain": [
              "tensor([[0., 1., 1.],\n",
              "        [1., 1., 1.]])"
            ]
          },
          "metadata": {},
          "execution_count": 13
        }
      ]
    },
    {
      "cell_type": "code",
      "source": [
        "# np.reshape() == torch.view()\n",
        "b"
      ],
      "metadata": {
        "colab": {
          "base_uri": "https://localhost:8080/"
        },
        "id": "t9fviZCzWU8l",
        "outputId": "cc1485b8-f7b5-4f8d-9d06-904a02f2dc32"
      },
      "execution_count": 14,
      "outputs": [
        {
          "output_type": "execute_result",
          "data": {
            "text/plain": [
              "tensor([[1., 2., 3.],\n",
              "        [4., 5., 6.]])"
            ]
          },
          "metadata": {},
          "execution_count": 14
        }
      ]
    },
    {
      "cell_type": "code",
      "source": [
        "b.view(3, 2)"
      ],
      "metadata": {
        "colab": {
          "base_uri": "https://localhost:8080/"
        },
        "id": "U26D_RNLWsIp",
        "outputId": "d74e345f-3937-4ad5-c267-369675635eef"
      },
      "execution_count": 15,
      "outputs": [
        {
          "output_type": "execute_result",
          "data": {
            "text/plain": [
              "tensor([[1., 2.],\n",
              "        [3., 4.],\n",
              "        [5., 6.]])"
            ]
          },
          "metadata": {},
          "execution_count": 15
        }
      ]
    },
    {
      "cell_type": "code",
      "source": [
        "b"
      ],
      "metadata": {
        "colab": {
          "base_uri": "https://localhost:8080/"
        },
        "id": "mnSvdKaaWunN",
        "outputId": "f3f6a623-33ff-4b6e-aa81-32106881d90a"
      },
      "execution_count": 16,
      "outputs": [
        {
          "output_type": "execute_result",
          "data": {
            "text/plain": [
              "tensor([[1., 2., 3.],\n",
              "        [4., 5., 6.]])"
            ]
          },
          "metadata": {},
          "execution_count": 16
        }
      ]
    },
    {
      "cell_type": "code",
      "source": [
        "b, b.stride()"
      ],
      "metadata": {
        "colab": {
          "base_uri": "https://localhost:8080/"
        },
        "id": "qktaMFqPW37l",
        "outputId": "db859a0e-722d-48ac-d0c0-d1488e31b76d"
      },
      "execution_count": 17,
      "outputs": [
        {
          "output_type": "execute_result",
          "data": {
            "text/plain": [
              "(tensor([[1., 2., 3.],\n",
              "         [4., 5., 6.]]), (3, 1))"
            ]
          },
          "metadata": {},
          "execution_count": 17
        }
      ]
    },
    {
      "cell_type": "code",
      "source": [
        "b.view(3, 2), b.view(3, 2).stride()"
      ],
      "metadata": {
        "colab": {
          "base_uri": "https://localhost:8080/"
        },
        "id": "pmoTTZN8W7fM",
        "outputId": "18a03527-3528-45df-e504-c0db20296ddc"
      },
      "execution_count": 18,
      "outputs": [
        {
          "output_type": "execute_result",
          "data": {
            "text/plain": [
              "(tensor([[1., 2.],\n",
              "         [3., 4.],\n",
              "         [5., 6.]]), (2, 1))"
            ]
          },
          "metadata": {},
          "execution_count": 18
        }
      ]
    },
    {
      "cell_type": "markdown",
      "source": [
        "Изменение типа тензора"
      ],
      "metadata": {
        "id": "qY3T9CUxXi3I"
      }
    },
    {
      "cell_type": "code",
      "source": [
        "a = torch.FloatTensor([1.5, 3.2, -7])"
      ],
      "metadata": {
        "id": "4jVioKwgXL_9"
      },
      "execution_count": 19,
      "outputs": []
    },
    {
      "cell_type": "code",
      "source": [
        "a.type_as(torch.IntTensor())"
      ],
      "metadata": {
        "colab": {
          "base_uri": "https://localhost:8080/"
        },
        "id": "6Xw3RpUMXuUw",
        "outputId": "76de8965-7103-4f41-e8b2-feb2a387c40d"
      },
      "execution_count": 20,
      "outputs": [
        {
          "output_type": "execute_result",
          "data": {
            "text/plain": [
              "tensor([ 1,  3, -7], dtype=torch.int32)"
            ]
          },
          "metadata": {},
          "execution_count": 20
        }
      ]
    },
    {
      "cell_type": "code",
      "source": [
        "a.to(torch.int32)"
      ],
      "metadata": {
        "colab": {
          "base_uri": "https://localhost:8080/"
        },
        "id": "GZMod_RlX1iB",
        "outputId": "a4316b72-5947-4f71-d4fd-c8571088e682"
      },
      "execution_count": 21,
      "outputs": [
        {
          "output_type": "execute_result",
          "data": {
            "text/plain": [
              "tensor([ 1,  3, -7], dtype=torch.int32)"
            ]
          },
          "metadata": {},
          "execution_count": 21
        }
      ]
    },
    {
      "cell_type": "markdown",
      "source": [
        ".type_as creates a new tensor, the old one remains unchanged"
      ],
      "metadata": {
        "id": "xWODj9_RYFVc"
      }
    },
    {
      "cell_type": "code",
      "source": [
        "a = torch.FloatTensor([[100, 20, 35],\n",
        "                       [15, 163, 534],\n",
        "                       [52, 60, 90]])\n",
        "a"
      ],
      "metadata": {
        "colab": {
          "base_uri": "https://localhost:8080/"
        },
        "id": "vjsnIKJZYAWm",
        "outputId": "7937508f-a63e-406c-c04c-bf1ce8a4c134"
      },
      "execution_count": 22,
      "outputs": [
        {
          "output_type": "execute_result",
          "data": {
            "text/plain": [
              "tensor([[100.,  20.,  35.],\n",
              "        [ 15., 163., 534.],\n",
              "        [ 52.,  60.,  90.]])"
            ]
          },
          "metadata": {},
          "execution_count": 22
        }
      ]
    },
    {
      "cell_type": "code",
      "source": [
        "a[0, 0]"
      ],
      "metadata": {
        "colab": {
          "base_uri": "https://localhost:8080/"
        },
        "id": "Oug3PH0PYkyi",
        "outputId": "3f26d8c5-0a8f-4fdb-b257-5811074895e9"
      },
      "execution_count": 23,
      "outputs": [
        {
          "output_type": "execute_result",
          "data": {
            "text/plain": [
              "tensor(100.)"
            ]
          },
          "metadata": {},
          "execution_count": 23
        }
      ]
    },
    {
      "cell_type": "code",
      "source": [
        "a[0:2, 1]"
      ],
      "metadata": {
        "colab": {
          "base_uri": "https://localhost:8080/"
        },
        "id": "noeqiQbuYlsa",
        "outputId": "c1805bdd-5f25-49a1-fcdf-5bd9e14dc20d"
      },
      "execution_count": 24,
      "outputs": [
        {
          "output_type": "execute_result",
          "data": {
            "text/plain": [
              "tensor([ 20., 163.])"
            ]
          },
          "metadata": {},
          "execution_count": 24
        }
      ]
    },
    {
      "cell_type": "code",
      "source": [
        "def vertical_means(A):\n",
        "  return A.mean(dim=0)"
      ],
      "metadata": {
        "id": "bkhKUbG3Yocj"
      },
      "execution_count": 25,
      "outputs": []
    },
    {
      "cell_type": "code",
      "source": [
        "print(vertical_means(a))"
      ],
      "metadata": {
        "colab": {
          "base_uri": "https://localhost:8080/"
        },
        "id": "ukEDEE_0aYwq",
        "outputId": "09cdf9b0-7b28-4603-e19f-311f4afc98b7"
      },
      "execution_count": 26,
      "outputs": [
        {
          "output_type": "stream",
          "name": "stdout",
          "text": [
            "tensor([ 55.6667,  81.0000, 219.6667])\n"
          ]
        }
      ]
    },
    {
      "cell_type": "code",
      "source": [
        "def normalize_pictures(A):\n",
        "   m = A.mean(dim=(2,3))\n",
        "   sigma = A.std(dim =(2, 3))\n",
        "   result = (A - m[:, :, None, None])/sigma[:, :, None, None]\n",
        "   return result"
      ],
      "metadata": {
        "id": "UeVr-Ml7aiWj"
      },
      "execution_count": 27,
      "outputs": []
    },
    {
      "cell_type": "code",
      "source": [
        "batch = torch.randint(0, 156, (64, 3, 300, 300), dtype=torch.float32)\n",
        "batch.mean(dim=(2, 3)).shape"
      ],
      "metadata": {
        "colab": {
          "base_uri": "https://localhost:8080/"
        },
        "id": "c6HPsdlQfHG4",
        "outputId": "006b421e-6e4b-4728-830a-21ce811173ee"
      },
      "execution_count": 28,
      "outputs": [
        {
          "output_type": "execute_result",
          "data": {
            "text/plain": [
              "torch.Size([64, 3])"
            ]
          },
          "metadata": {},
          "execution_count": 28
        }
      ]
    },
    {
      "cell_type": "code",
      "source": [
        "batch = torch.randint(0, 256, (64, 3, 300, 300), dtype=torch.float32)\n",
        "\n",
        "B = normalize_pictures(batch)\n",
        "# print(B.mean(dim=(2,3)).shape)\n",
        "# print(B.std(dim=(2,3)))"
      ],
      "metadata": {
        "id": "7Yz8k2JQyE0p"
      },
      "execution_count": 29,
      "outputs": []
    },
    {
      "cell_type": "code",
      "source": [
        "def forward_pass(X, w):\n",
        "  logits = X @ w\n",
        "  result = torch.sigmoid(logits)\n",
        "  return result"
      ],
      "metadata": {
        "id": "-VLlzwhafWr1"
      },
      "execution_count": 30,
      "outputs": []
    },
    {
      "cell_type": "code",
      "source": [
        "X = torch.FloatTensor([[5, 5],\n",
        "                       [2, 3],\n",
        "                       [1, -1]])\n",
        "print(X.shape)\n",
        "w = torch.FloatTensor([[-0.5], [2.5]])\n",
        "print(w.shape)\n",
        "result = forward_pass(X, w)\n",
        "print('result: {}'.format(result))"
      ],
      "metadata": {
        "colab": {
          "base_uri": "https://localhost:8080/"
        },
        "id": "cXG0BxGiieth",
        "outputId": "4f87a7ed-bb9a-4ed8-d93c-a4f3578a20c1"
      },
      "execution_count": 31,
      "outputs": [
        {
          "output_type": "stream",
          "name": "stdout",
          "text": [
            "torch.Size([3, 2])\n",
            "torch.Size([2, 1])\n",
            "result: tensor([[1.0000],\n",
            "        [0.9985],\n",
            "        [0.0474]])\n"
          ]
        }
      ]
    },
    {
      "cell_type": "code",
      "source": [
        "x = torch.FloatTensor(1024, 10024).uniform_()\n",
        "x"
      ],
      "metadata": {
        "colab": {
          "base_uri": "https://localhost:8080/"
        },
        "id": "bPPGs235ydS7",
        "outputId": "d545eb25-01a7-4920-c626-9e7d043ec1d4"
      },
      "execution_count": 32,
      "outputs": [
        {
          "output_type": "execute_result",
          "data": {
            "text/plain": [
              "tensor([[0.1586, 0.3158, 0.5311,  ..., 0.9268, 0.3318, 0.2789],\n",
              "        [0.2785, 0.7224, 0.7315,  ..., 0.7036, 0.6582, 0.9889],\n",
              "        [0.6013, 0.5062, 0.2536,  ..., 0.9615, 0.9397, 0.3655],\n",
              "        ...,\n",
              "        [0.2985, 0.3468, 0.2280,  ..., 0.2195, 0.3026, 0.2613],\n",
              "        [0.4677, 0.9748, 0.7810,  ..., 0.9494, 0.6792, 0.4662],\n",
              "        [0.2833, 0.8911, 0.4514,  ..., 0.3154, 0.8035, 0.5096]])"
            ]
          },
          "metadata": {},
          "execution_count": 32
        }
      ]
    },
    {
      "cell_type": "code",
      "source": [
        "x.is_cuda"
      ],
      "metadata": {
        "colab": {
          "base_uri": "https://localhost:8080/"
        },
        "id": "DeF7g-HFyfrW",
        "outputId": "4b8767d3-5349-4558-a947-2bdf2859a104"
      },
      "execution_count": 33,
      "outputs": [
        {
          "output_type": "execute_result",
          "data": {
            "text/plain": [
              "False"
            ]
          },
          "metadata": {},
          "execution_count": 33
        }
      ]
    },
    {
      "cell_type": "code",
      "source": [
        "!nvidia-smi"
      ],
      "metadata": {
        "colab": {
          "base_uri": "https://localhost:8080/"
        },
        "id": "HmdZQg5wyhUC",
        "outputId": "3ae31158-3121-4bba-a31b-552094209518"
      },
      "execution_count": 34,
      "outputs": [
        {
          "output_type": "stream",
          "name": "stdout",
          "text": [
            "Sun Mar 19 07:35:23 2023       \n",
            "+-----------------------------------------------------------------------------+\n",
            "| NVIDIA-SMI 525.85.12    Driver Version: 525.85.12    CUDA Version: 12.0     |\n",
            "|-------------------------------+----------------------+----------------------+\n",
            "| GPU  Name        Persistence-M| Bus-Id        Disp.A | Volatile Uncorr. ECC |\n",
            "| Fan  Temp  Perf  Pwr:Usage/Cap|         Memory-Usage | GPU-Util  Compute M. |\n",
            "|                               |                      |               MIG M. |\n",
            "|===============================+======================+======================|\n",
            "|   0  Tesla T4            Off  | 00000000:00:04.0 Off |                    0 |\n",
            "| N/A   43C    P0    26W /  70W |      0MiB / 15360MiB |      0%      Default |\n",
            "|                               |                      |                  N/A |\n",
            "+-------------------------------+----------------------+----------------------+\n",
            "                                                                               \n",
            "+-----------------------------------------------------------------------------+\n",
            "| Processes:                                                                  |\n",
            "|  GPU   GI   CI        PID   Type   Process name                  GPU Memory |\n",
            "|        ID   ID                                                   Usage      |\n",
            "|=============================================================================|\n",
            "|  No running processes found                                                 |\n",
            "+-----------------------------------------------------------------------------+\n"
          ]
        }
      ]
    },
    {
      "cell_type": "code",
      "source": [
        "x = x.cuda()"
      ],
      "metadata": {
        "id": "4z-jAhlOy4qO"
      },
      "execution_count": 40,
      "outputs": []
    },
    {
      "cell_type": "code",
      "source": [
        "!nvidia-smi"
      ],
      "metadata": {
        "colab": {
          "base_uri": "https://localhost:8080/"
        },
        "id": "AUgE294Jy5_S",
        "outputId": "2e46e4d8-ef84-47a4-bdc6-f70b042f3197"
      },
      "execution_count": 41,
      "outputs": [
        {
          "output_type": "stream",
          "name": "stdout",
          "text": [
            "Sun Mar 19 07:35:42 2023       \n",
            "+-----------------------------------------------------------------------------+\n",
            "| NVIDIA-SMI 525.85.12    Driver Version: 525.85.12    CUDA Version: 12.0     |\n",
            "|-------------------------------+----------------------+----------------------+\n",
            "| GPU  Name        Persistence-M| Bus-Id        Disp.A | Volatile Uncorr. ECC |\n",
            "| Fan  Temp  Perf  Pwr:Usage/Cap|         Memory-Usage | GPU-Util  Compute M. |\n",
            "|                               |                      |               MIG M. |\n",
            "|===============================+======================+======================|\n",
            "|   0  Tesla T4            Off  | 00000000:00:04.0 Off |                    0 |\n",
            "| N/A   45C    P0    27W /  70W |    611MiB / 15360MiB |      0%      Default |\n",
            "|                               |                      |                  N/A |\n",
            "+-------------------------------+----------------------+----------------------+\n",
            "                                                                               \n",
            "+-----------------------------------------------------------------------------+\n",
            "| Processes:                                                                  |\n",
            "|  GPU   GI   CI        PID   Type   Process name                  GPU Memory |\n",
            "|        ID   ID                                                   Usage      |\n",
            "|=============================================================================|\n",
            "+-----------------------------------------------------------------------------+\n"
          ]
        }
      ]
    },
    {
      "cell_type": "code",
      "source": [
        "x = x.cpu()\n",
        "!nvidia-smi\n",
        "\n",
        "torch.cuda.empty_cache()\n",
        "!nvidia-smi"
      ],
      "metadata": {
        "colab": {
          "base_uri": "https://localhost:8080/"
        },
        "id": "R1vPEg3ay8ec",
        "outputId": "28d54a3d-e2bc-43af-d670-b03c30c9ef92"
      },
      "execution_count": 42,
      "outputs": [
        {
          "output_type": "stream",
          "name": "stdout",
          "text": [
            "Sun Mar 19 07:35:52 2023       \n",
            "+-----------------------------------------------------------------------------+\n",
            "| NVIDIA-SMI 525.85.12    Driver Version: 525.85.12    CUDA Version: 12.0     |\n",
            "|-------------------------------+----------------------+----------------------+\n",
            "| GPU  Name        Persistence-M| Bus-Id        Disp.A | Volatile Uncorr. ECC |\n",
            "| Fan  Temp  Perf  Pwr:Usage/Cap|         Memory-Usage | GPU-Util  Compute M. |\n",
            "|                               |                      |               MIG M. |\n",
            "|===============================+======================+======================|\n",
            "|   0  Tesla T4            Off  | 00000000:00:04.0 Off |                    0 |\n",
            "| N/A   46C    P0    27W /  70W |    611MiB / 15360MiB |      0%      Default |\n",
            "|                               |                      |                  N/A |\n",
            "+-------------------------------+----------------------+----------------------+\n",
            "                                                                               \n",
            "+-----------------------------------------------------------------------------+\n",
            "| Processes:                                                                  |\n",
            "|  GPU   GI   CI        PID   Type   Process name                  GPU Memory |\n",
            "|        ID   ID                                                   Usage      |\n",
            "|=============================================================================|\n",
            "+-----------------------------------------------------------------------------+\n",
            "Sun Mar 19 07:35:53 2023       \n",
            "+-----------------------------------------------------------------------------+\n",
            "| NVIDIA-SMI 525.85.12    Driver Version: 525.85.12    CUDA Version: 12.0     |\n",
            "|-------------------------------+----------------------+----------------------+\n",
            "| GPU  Name        Persistence-M| Bus-Id        Disp.A | Volatile Uncorr. ECC |\n",
            "| Fan  Temp  Perf  Pwr:Usage/Cap|         Memory-Usage | GPU-Util  Compute M. |\n",
            "|                               |                      |               MIG M. |\n",
            "|===============================+======================+======================|\n",
            "|   0  Tesla T4            Off  | 00000000:00:04.0 Off |                    0 |\n",
            "| N/A   46C    P0    27W /  70W |    571MiB / 15360MiB |      1%      Default |\n",
            "|                               |                      |                  N/A |\n",
            "+-------------------------------+----------------------+----------------------+\n",
            "                                                                               \n",
            "+-----------------------------------------------------------------------------+\n",
            "| Processes:                                                                  |\n",
            "|  GPU   GI   CI        PID   Type   Process name                  GPU Memory |\n",
            "|        ID   ID                                                   Usage      |\n",
            "|=============================================================================|\n",
            "+-----------------------------------------------------------------------------+\n"
          ]
        }
      ]
    },
    {
      "cell_type": "code",
      "source": [
        "device = torch.device(\"cuda:0\") if torch.cuda.is_available() else torch.device(\"cpu\")\n",
        "\n",
        "x = x.to(device)\n",
        "x"
      ],
      "metadata": {
        "colab": {
          "base_uri": "https://localhost:8080/"
        },
        "id": "C4Vsxkg_y_SV",
        "outputId": "d7c853c4-d977-40d1-de98-8eb258ecda57"
      },
      "execution_count": 43,
      "outputs": [
        {
          "output_type": "execute_result",
          "data": {
            "text/plain": [
              "tensor([[0.1586, 0.3158, 0.5311,  ..., 0.9268, 0.3318, 0.2789],\n",
              "        [0.2785, 0.7224, 0.7315,  ..., 0.7036, 0.6582, 0.9889],\n",
              "        [0.6013, 0.5062, 0.2536,  ..., 0.9615, 0.9397, 0.3655],\n",
              "        ...,\n",
              "        [0.2985, 0.3468, 0.2280,  ..., 0.2195, 0.3026, 0.2613],\n",
              "        [0.4677, 0.9748, 0.7810,  ..., 0.9494, 0.6792, 0.4662],\n",
              "        [0.2833, 0.8911, 0.4514,  ..., 0.3154, 0.8035, 0.5096]],\n",
              "       device='cuda:0')"
            ]
          },
          "metadata": {},
          "execution_count": 43
        }
      ]
    },
    {
      "cell_type": "markdown",
      "source": [
        "Умножим два тензора в GPU и вернём результат обратно на CPU:"
      ],
      "metadata": {
        "id": "Rw7FJedjzECY"
      }
    },
    {
      "cell_type": "code",
      "source": [
        "a = torch.FloatTensor(10000, 10000).uniform_()\n",
        "b = torch.FloatTensor(10000, 10000).uniform_()\n",
        "c = a.cuda().mul(b.cuda()).cpu()"
      ],
      "metadata": {
        "id": "zizOLljfzCG5"
      },
      "execution_count": 44,
      "outputs": []
    },
    {
      "cell_type": "code",
      "source": [
        "from IPython.core.oinspect import call_tip\n",
        "import matplotlib.pyplot as plt\n",
        "import torch\n",
        "import pandas as pd\n",
        "import numpy as np\n",
        "%matplotlib inline\n",
        "\n",
        "data_url = \"http://lib.stat.cmu.edu/datasets/boston\"\n",
        "raw_df = pd.read_csv(data_url, sep=\"\\s+\", skiprows=22, header=None)\n",
        "data = np.hstack([raw_df.values[::2, :], raw_df.values[1::2, :2]])\n",
        "target = raw_df.values[1::2, 2]\n",
        "plt.scatter(data[:, -1], target)"
      ],
      "metadata": {
        "colab": {
          "base_uri": "https://localhost:8080/",
          "height": 282
        },
        "id": "fGdpG7f6kb8x",
        "outputId": "7feba5cb-38e4-47e2-de00-ca4bb1aac8ff"
      },
      "execution_count": 50,
      "outputs": [
        {
          "output_type": "execute_result",
          "data": {
            "text/plain": [
              "<matplotlib.collections.PathCollection at 0x7fb271358f40>"
            ]
          },
          "metadata": {},
          "execution_count": 50
        },
        {
          "output_type": "display_data",
          "data": {
            "text/plain": [
              "<Figure size 432x288 with 1 Axes>"
            ],
            "image/png": "[encoded data removed]"
          },
          "metadata": {
            "needs_background": "light"
          }
        }
      ]
    },
    {
      "cell_type": "code",
      "source": [
        "w = torch.zeros(1, requires_grad=True)\n",
        "b = torch.zeros(1, requires_grad=True)\n",
        "\n",
        "X = torch.tensor(data[:, -1] / 10, dtype=torch.float32)\n",
        "y = torch.tensor(target, dtype=torch.float32)"
      ],
      "metadata": {
        "id": "jclBNTYhnMVh"
      },
      "execution_count": 61,
      "outputs": []
    },
    {
      "cell_type": "code",
      "source": [
        "y_pred = w * X + b\n",
        "loss = torch.mean((y_pred - y) ** 2)\n",
        "\n",
        "loss.backward()"
      ],
      "metadata": {
        "id": "OUnoWQpFtCY9"
      },
      "execution_count": 62,
      "outputs": []
    },
    {
      "cell_type": "code",
      "source": [
        "print('dL/dw = ', w.grad)\n",
        "print('dL/db = ', b.grad)"
      ],
      "metadata": {
        "colab": {
          "base_uri": "https://localhost:8080/"
        },
        "id": "I_6tLwmxtW47",
        "outputId": "2e796e34-c1ec-4920-d066-dbdbab5cbfa8"
      },
      "execution_count": 63,
      "outputs": [
        {
          "output_type": "stream",
          "name": "stdout",
          "text": [
            "dL/dw =  tensor([-47.3514])\n",
            "dL/db =  tensor([-45.0656])\n"
          ]
        }
      ]
    },
    {
      "cell_type": "code",
      "source": [
        "from IPython.display import clear_output\n",
        "\n",
        "for i in range(100):\n",
        "\n",
        "    y_pred = w * X + b\n",
        "\n",
        "    # Вычисляем функцию ошибок\n",
        "    loss = torch.mean((y_pred - y)**2)\n",
        "\n",
        "    # Вычисляем градиенты\n",
        "    loss.backward()\n",
        "\n",
        "\n",
        "    # Делаем шаг градиентного спуска по матрице весов\n",
        "    w.data -= 0.05*w.grad.data\n",
        "    b.data -= 0.05*b.grad.data\n",
        "\n",
        "    # обнуляем градиенты\n",
        "    w.grad.data.zero_()\n",
        "    b.grad.data.zero_()\n",
        "\n",
        "\n",
        "\n",
        "    # the rest of code is just bells and whistles\n",
        "    if (i+1) % 5 == 0:\n",
        "        clear_output(True)\n",
        "        plt.scatter(X.data.numpy(), y.data.numpy())\n",
        "        plt.scatter(X.data.numpy(), y_pred.data.numpy(),\n",
        "                    color='orange', linewidth=5)\n",
        "        plt.show()\n",
        "\n",
        "        print(\"loss = \", loss.data.numpy())\n",
        "        if loss.data.numpy() < 0.5:\n",
        "            print(\"Done!\")\n",
        "            break"
      ],
      "metadata": {
        "id": "0duNxZtItuCY",
        "colab": {
          "base_uri": "https://localhost:8080/",
          "height": 282
        },
        "outputId": "9d072d74-750a-4a5f-eb1b-97745eba4ae8"
      },
      "execution_count": 64,
      "outputs": [
        {
          "output_type": "display_data",
          "data": {
            "text/plain": [
              "<Figure size 432x288 with 1 Axes>"
            ],
            "image/png": "[encoded data removed]"
          },
          "metadata": {
            "needs_background": "light"
          }
        },
        {
          "output_type": "stream",
          "name": "stdout",
          "text": [
            "loss =  44.59417\n"
          ]
        }
      ]
    },
    {
      "cell_type": "markdown",
      "source": [
        "Посмотрим градиенты на примере двухслойной сети"
      ],
      "metadata": {
        "id": "Yq6kGFWK0_ER"
      }
    },
    {
      "cell_type": "code",
      "source": [
        "dtype = torch.float\n",
        "device = torch.device(\"cuda:0\")\n",
        "# device = torch.device(\"cuda:0\") # Раскомментируйте это, чтобы запустить на GPU\n",
        "\n",
        "# N - размер батча; D_in - входной размер;\n",
        "# H - размер скрытого слоя; D_out - размер вывода.\n",
        "N, D_in, H, D_out = 64, 3, 3, 10\n",
        "N, D_in, H, D_out = 64, 3, 3, 10\n",
        "\n",
        "# Создание случайных тензоров для хранения входных и выходных данных.\n",
        "# Настройка requires_grad = False указывает, что нам не нужно вычислять градиенты\n",
        "# по отношению к этим тензорам во время обратного прохода.\n",
        "x = torch.randn(N, D_in, device=device, dtype=dtype)\n",
        "y = torch.randn(N, D_out, device=device, dtype=dtype)\n",
        "\n",
        "# Создаем тензоры случайных весов.\n",
        "# Настройка requires_grad = True указывает, что мы хотим вычислять градиенты с\n",
        "# уважение к этим тензорам во время обратного прохода.\n",
        "\n",
        "# Create random Tensors for weights.\n",
        "# Установка requires_grad = True указывает, что мы хотим вычислить градиенты \n",
        "# относительно этих тензоров во время обратного прохода.\n",
        "w1 = torch.randn(D_in, H, device=device, dtype=dtype, requires_grad=True)\n",
        "w2 = torch.randn(H, D_out, device=device, dtype=dtype, requires_grad=True)"
      ],
      "metadata": {
        "id": "YQ23LOb3u4R8"
      },
      "execution_count": 65,
      "outputs": []
    },
    {
      "cell_type": "code",
      "source": [
        "y_pred = (x @ w1).clamp(min=0).matmul(w2)\n",
        "loss = (y_pred - y).pow(2).sum()\n",
        "\n",
        "# вычисляем градиенты\n",
        "loss.backward()"
      ],
      "metadata": {
        "id": "PVCiwM_P1bPb"
      },
      "execution_count": 66,
      "outputs": []
    },
    {
      "cell_type": "code",
      "source": [
        "print((y_pred - y).pow(2).sum())"
      ],
      "metadata": {
        "colab": {
          "base_uri": "https://localhost:8080/"
        },
        "id": "dYrmv9251c1w",
        "outputId": "73ef4698-b780-4031-8aaa-1480638f7224"
      },
      "execution_count": 67,
      "outputs": [
        {
          "output_type": "stream",
          "name": "stdout",
          "text": [
            "tensor(1530.4421, device='cuda:0', grad_fn=<SumBackward0>)\n"
          ]
        }
      ]
    },
    {
      "cell_type": "code",
      "source": [
        "w1.grad, w2.grad"
      ],
      "metadata": {
        "colab": {
          "base_uri": "https://localhost:8080/"
        },
        "id": "1pyt9aA41eCg",
        "outputId": "4e6b5663-d5d6-4cb6-8ca5-19aa7b713e87"
      },
      "execution_count": 68,
      "outputs": [
        {
          "output_type": "execute_result",
          "data": {
            "text/plain": [
              "(tensor([[  -87.1446,  -302.7571,   -59.6243],\n",
              "         [   94.9718, -1102.5400,   241.3401],\n",
              "         [  -83.5023,   -40.0338,   124.9156]], device='cuda:0'),\n",
              " tensor([[  -3.8358,   -6.9438,   -1.3267,    4.0011,  -24.0403,  -24.7448,\n",
              "           -31.3157,  -18.1610,   -6.7464,  -29.5265],\n",
              "         [  45.5959, -150.3135,  -13.9373,  152.8100,  -78.6945, -267.4083,\n",
              "          -121.9045, -201.7444,   43.0091, -335.2875],\n",
              "         [   1.0293,   -0.9878,   -1.0668,    1.5729,    9.4945,   -5.3781,\n",
              "           -12.0129,  -21.4426,  -12.7840,    1.3489]], device='cuda:0'))"
            ]
          },
          "metadata": {},
          "execution_count": 68
        }
      ]
    },
    {
      "cell_type": "code",
      "source": [
        "loss.grad # нет доступа к нелистовым градиентам в дереве AD"
      ],
      "metadata": {
        "colab": {
          "base_uri": "https://localhost:8080/"
        },
        "id": "Hg48kTIN1fVu",
        "outputId": "09bd0754-d42d-485d-d2c5-7e0cdee1f2a6"
      },
      "execution_count": 69,
      "outputs": [
        {
          "output_type": "stream",
          "name": "stderr",
          "text": [
            "<ipython-input-69-391fe38783cc>:1: UserWarning: The .grad attribute of a Tensor that is not a leaf Tensor is being accessed. Its .grad attribute won't be populated during autograd.backward(). If you indeed want the .grad field to be populated for a non-leaf Tensor, use .retain_grad() on the non-leaf Tensor. If you access the non-leaf Tensor by mistake, make sure you access the leaf Tensor instead. See github.com/pytorch/pytorch/pull/30531 for more informations. (Triggered internally at aten/src/ATen/core/TensorBody.h:480.)\n",
            "  loss.grad # нет доступа к нелистовым градиентам в дереве AD\n"
          ]
        }
      ]
    },
    {
      "cell_type": "code",
      "source": [
        "# заставляем переменную запоминать градиенты фнукции потерь\n",
        "y_pred = (x @ w1).clamp(min=0).matmul(w2)\n",
        "y_pred.retain_grad()\n",
        "\n",
        "loss = (y_pred - y).pow(2).sum()\n",
        "loss.retain_grad()\n",
        "\n",
        "loss.backward()"
      ],
      "metadata": {
        "id": "cCBmSYYg1hXY"
      },
      "execution_count": 70,
      "outputs": []
    },
    {
      "cell_type": "code",
      "source": [
        "loss.grad"
      ],
      "metadata": {
        "colab": {
          "base_uri": "https://localhost:8080/"
        },
        "id": "qz12dxNf1ipn",
        "outputId": "22a4a93f-f9f6-49ae-99d1-8e239cd23e84"
      },
      "execution_count": 71,
      "outputs": [
        {
          "output_type": "execute_result",
          "data": {
            "text/plain": [
              "tensor(1., device='cuda:0')"
            ]
          },
          "metadata": {},
          "execution_count": 71
        }
      ]
    },
    {
      "cell_type": "code",
      "source": [
        "x.grad # не требует градиента"
      ],
      "metadata": {
        "id": "G3rCODgn1j-l"
      },
      "execution_count": 72,
      "outputs": []
    },
    {
      "cell_type": "code",
      "source": [
        "y.grad # не требует градиента"
      ],
      "metadata": {
        "id": "ZtTYKA5R1lm4"
      },
      "execution_count": 73,
      "outputs": []
    },
    {
      "cell_type": "code",
      "source": [
        "w1"
      ],
      "metadata": {
        "colab": {
          "base_uri": "https://localhost:8080/"
        },
        "id": "jlK2Qcrj1nB3",
        "outputId": "08f019e1-7b6f-4ae2-a9b0-b827e25e187c"
      },
      "execution_count": 74,
      "outputs": [
        {
          "output_type": "execute_result",
          "data": {
            "text/plain": [
              "tensor([[-0.2565, -0.1958,  0.0271],\n",
              "        [ 0.0756, -1.4331,  0.5153],\n",
              "        [-0.3289,  0.1684,  0.0204]], device='cuda:0', requires_grad=True)"
            ]
          },
          "metadata": {},
          "execution_count": 74
        }
      ]
    },
    {
      "cell_type": "code",
      "source": [
        "# Определяем на чем у нас будут производиться вычисления (cuda/cpu)\n",
        "device = torch.device('cuda:0') if torch.cuda.is_available else torch.device('cpu')  \n",
        "device"
      ],
      "metadata": {
        "colab": {
          "base_uri": "https://localhost:8080/"
        },
        "id": "wiXAboHb1o-R",
        "outputId": "b90244ec-f079-4143-b683-5e91cdcb6f82"
      },
      "execution_count": 75,
      "outputs": [
        {
          "output_type": "execute_result",
          "data": {
            "text/plain": [
              "device(type='cuda', index=0)"
            ]
          },
          "metadata": {},
          "execution_count": 75
        }
      ]
    },
    {
      "cell_type": "code",
      "source": [
        "from torchvision.datasets import MNIST\n",
        "import torchvision.transforms as tfs"
      ],
      "metadata": {
        "id": "CsydTmEh2P6F"
      },
      "execution_count": 76,
      "outputs": []
    },
    {
      "cell_type": "code",
      "source": [
        "data_tfs = tfs.Compose([\n",
        "  tfs.ToTensor(),\n",
        "  tfs.Normalize((0.5), (0.5))\n",
        "])"
      ],
      "metadata": {
        "id": "dvvFhPnl2UYK"
      },
      "execution_count": 77,
      "outputs": []
    },
    {
      "cell_type": "code",
      "source": [
        "# install for train and test\n",
        "root = './'\n",
        "train = MNIST(root, train=True,  transform=data_tfs, download=True)\n",
        "test  = MNIST(root, train=False, transform=data_tfs, download=True)"
      ],
      "metadata": {
        "colab": {
          "base_uri": "https://localhost:8080/",
          "height": 423,
          "referenced_widgets": [
            "5f57de9ffbd343d5a22db99a0d1343f1",
            "487259d181944aa28f4daf2b3120a63c",
            "f087dfac43f845d2a44c347ca29b4347",
            "18de6bc0870242859505ca37db0b71e1",
            "601cbaca1a864b93a4761ebe44da134f",
            "102408d40d8f4eb2bbbab2f956dc3db7",
            "95ed849561964261a2006b1117b16bcb",
            "1a64b86984694f9ca897e97634430187",
            "c56c6b303fce4f48ba11735e2bb83760",
            "cd37e96f154b4ec39ca647b575edf7f9",
            "6ac6efa5ea4f420aaa69eab1ac3561ec",
            "ba5fbe3401874db19a56b31ac705e53f",
            "48147aa75de544038ddb932f8b3b4954",
            "6fe566bdec5f451cb64e1e18c615d771",
            "dca281c9d98d4099b36963a5682f21df",
            "cb774e8219064fb8911ad39325df592b",
            "c5bdde11309f4d3396c8601a0e00eaa6",
            "da0f656535c5416eb1da39b2ec0350b0",
            "5b30a9bb8ed04d65a5f6e0c966e37182",
            "53e923fad5ae49be95cd5e8b534ad9ee",
            "068fda85dd65468abf59168e5147f392",
            "e95f1afaa4914eefb48f74bc8c595e74",
            "d5e7da4c3abb431dbd04fb58c7f17948",
            "b8965147af1c4e058800c1cb1867d9b8",
            "5535a765071243da960da600e6ef2b79",
            "032835ee708b439a9894875b4688d315",
            "c947f306a8fa426c818f68a8e33524cb",
            "d8818f3f6f8a45d484105212a8a8673a",
            "75a606423a3749b9afd964dfc875b7ba",
            "a8385626196d4fe0bc81ff9df1b9cc32",
            "0b66ea71d96f4e1ea78ac42b5edff948",
            "840217f9c19547fe983a61518613bc44",
            "54ff249a2f0e46d9bc507088465e0642",
            "d8a2002ad96f46b281ab90eddeb22ed4",
            "4fe39b4151784d96b8be09cbd236b038",
            "0464b4c67afd495aa484e75ffae73c3d",
            "871b8e86919640c8b622669823c8a2d4",
            "518b15e9782747bfbbd0eb0aa4f0d9f9",
            "750cb7e19bc9450fb0016235f4908ebc",
            "f94be870c5d04c47ae46008877b083b9",
            "0f698718908c439e830b7f3b475fc148",
            "4857f82ba3f44fa19d14326f79529ae1",
            "45e63ebb033044a8afa4cf5bb92ae7c7",
            "3dda03a6ca9346e881f6146636b90b7f"
          ]
        },
        "id": "kdrAkdCW2WA4",
        "outputId": "7102281a-4e47-4f98-eacd-80cb2c7e32b8"
      },
      "execution_count": 78,
      "outputs": [
        {
          "output_type": "stream",
          "name": "stdout",
          "text": [
            "Downloading http://yann.lecun.com/exdb/mnist/train-images-idx3-ubyte.gz\n",
            "Downloading http://yann.lecun.com/exdb/mnist/train-images-idx3-ubyte.gz to ./MNIST/raw/train-images-idx3-ubyte.gz\n"
          ]
        },
        {
          "output_type": "display_data",
          "data": {
            "text/plain": [
              "  0%|          | 0/9912422 [00:00<?, ?it/s]"
            ],
            "application/vnd.jupyter.widget-view+json": {
              "version_major": 2,
              "version_minor": 0,
              "model_id": "5f57de9ffbd343d5a22db99a0d1343f1"
            }
          },
          "metadata": {}
        },
        {
          "output_type": "stream",
          "name": "stdout",
          "text": [
            "Extracting ./MNIST/raw/train-images-idx3-ubyte.gz to ./MNIST/raw\n",
            "\n",
            "Downloading http://yann.lecun.com/exdb/mnist/train-labels-idx1-ubyte.gz\n",
            "Downloading http://yann.lecun.com/exdb/mnist/train-labels-idx1-ubyte.gz to ./MNIST/raw/train-labels-idx1-ubyte.gz\n"
          ]
        },
        {
          "output_type": "display_data",
          "data": {
            "text/plain": [
              "  0%|          | 0/28881 [00:00<?, ?it/s]"
            ],
            "application/vnd.jupyter.widget-view+json": {
              "version_major": 2,
              "version_minor": 0,
              "model_id": "ba5fbe3401874db19a56b31ac705e53f"
            }
          },
          "metadata": {}
        },
        {
          "output_type": "stream",
          "name": "stdout",
          "text": [
            "Extracting ./MNIST/raw/train-labels-idx1-ubyte.gz to ./MNIST/raw\n",
            "\n",
            "Downloading http://yann.lecun.com/exdb/mnist/t10k-images-idx3-ubyte.gz\n",
            "Downloading http://yann.lecun.com/exdb/mnist/t10k-images-idx3-ubyte.gz to ./MNIST/raw/t10k-images-idx3-ubyte.gz\n"
          ]
        },
        {
          "output_type": "display_data",
          "data": {
            "text/plain": [
              "  0%|          | 0/1648877 [00:00<?, ?it/s]"
            ],
            "application/vnd.jupyter.widget-view+json": {
              "version_major": 2,
              "version_minor": 0,
              "model_id": "d5e7da4c3abb431dbd04fb58c7f17948"
            }
          },
          "metadata": {}
        },
        {
          "output_type": "stream",
          "name": "stdout",
          "text": [
            "Extracting ./MNIST/raw/t10k-images-idx3-ubyte.gz to ./MNIST/raw\n",
            "\n",
            "Downloading http://yann.lecun.com/exdb/mnist/t10k-labels-idx1-ubyte.gz\n",
            "Downloading http://yann.lecun.com/exdb/mnist/t10k-labels-idx1-ubyte.gz to ./MNIST/raw/t10k-labels-idx1-ubyte.gz\n"
          ]
        },
        {
          "output_type": "display_data",
          "data": {
            "text/plain": [
              "  0%|          | 0/4542 [00:00<?, ?it/s]"
            ],
            "application/vnd.jupyter.widget-view+json": {
              "version_major": 2,
              "version_minor": 0,
              "model_id": "d8a2002ad96f46b281ab90eddeb22ed4"
            }
          },
          "metadata": {}
        },
        {
          "output_type": "stream",
          "name": "stdout",
          "text": [
            "Extracting ./MNIST/raw/t10k-labels-idx1-ubyte.gz to ./MNIST/raw\n",
            "\n"
          ]
        }
      ]
    },
    {
      "cell_type": "code",
      "source": [
        "print(f'Data size:\\n\\t train {len(train)},\\n\\t test {len(test)}')\n",
        "print(f'Data shape:\\n\\t features {train[0][0].shape},\\n\\t target {type(test[0][1])}')"
      ],
      "metadata": {
        "colab": {
          "base_uri": "https://localhost:8080/"
        },
        "id": "VSW0Hk592XBT",
        "outputId": "30a1ea65-ec01-4f0a-acdd-fa610815bdb0"
      },
      "execution_count": 79,
      "outputs": [
        {
          "output_type": "stream",
          "name": "stdout",
          "text": [
            "Data size:\n",
            "\t train 60000,\n",
            "\t test 10000\n",
            "Data shape:\n",
            "\t features torch.Size([1, 28, 28]),\n",
            "\t target <class 'int'>\n"
          ]
        }
      ]
    },
    {
      "cell_type": "code",
      "source": [
        "from torch.utils.data import DataLoader\n",
        "\n",
        "batch_size = 128\n",
        "\n",
        "train_loader = DataLoader(train, batch_size=batch_size, drop_last=True)\n",
        "test_loader = DataLoader(test, batch_size=batch_size, drop_last=True)"
      ],
      "metadata": {
        "id": "78Nb2F_E2fW-"
      },
      "execution_count": 80,
      "outputs": []
    },
    {
      "cell_type": "code",
      "source": [
        "x_batch, y_batch = next(iter(train_loader))\n",
        "x_batch.shape, y_batch.shape"
      ],
      "metadata": {
        "colab": {
          "base_uri": "https://localhost:8080/"
        },
        "id": "ppAXXU6Q2gyS",
        "outputId": "d0f1da92-5118-4f69-bd8f-85b78cd3df8c"
      },
      "execution_count": 81,
      "outputs": [
        {
          "output_type": "execute_result",
          "data": {
            "text/plain": [
              "(torch.Size([128, 1, 28, 28]), torch.Size([128]))"
            ]
          },
          "metadata": {},
          "execution_count": 81
        }
      ]
    },
    {
      "cell_type": "markdown",
      "source": [
        "## Модель и обучение (of abnormal people)\n",
        "\n",
        "\n",
        "Теперь посмотрим, как **torch** вычисляет функции градиента во время вычисления выражения. Используя метод `.backward ()` для выражени, **мы передаем граф вычисления градиента до листьев**, которые являются надежными для параметров нашей модели.\n",
        "\n",
        "Таким образом, мы используем эти знания, чтобы найти оптимальные веса некоторой модели, которая представлена ​​некоторым выражением.\n",
        "\n",
        "Предположем,\n",
        "1. Мы хотим обучить линейную модель.\n",
        "2. Для каждого класса мы используем собственные веса для вычисления `logits` (логитов).\n",
        "3. Мы используем `softmax` на логитах для вероятностей каждого класса.\n",
        "4. Обучайте партии с помощью `sgd`."
      ],
      "metadata": {
        "id": "GeUemxoW2lZ5"
      }
    },
    {
      "cell_type": "code",
      "source": [
        "features = 784\n",
        "classes = 10"
      ],
      "metadata": {
        "id": "9SrhVaJH2iK-"
      },
      "execution_count": 82,
      "outputs": []
    },
    {
      "cell_type": "code",
      "source": [
        "W = torch.FloatTensor(features, classes).uniform_(-1, 1) / features**0.5\n",
        "W.requires_grad_()"
      ],
      "metadata": {
        "colab": {
          "base_uri": "https://localhost:8080/"
        },
        "id": "7iOnd4Q-2odW",
        "outputId": "4525bad9-3c72-428d-a1ec-14330be7cba6"
      },
      "execution_count": 83,
      "outputs": [
        {
          "output_type": "execute_result",
          "data": {
            "text/plain": [
              "tensor([[ 0.0230, -0.0050, -0.0146,  ...,  0.0339, -0.0175,  0.0212],\n",
              "        [ 0.0137, -0.0304,  0.0312,  ...,  0.0055,  0.0229, -0.0322],\n",
              "        [-0.0261,  0.0098,  0.0096,  ..., -0.0199, -0.0151,  0.0272],\n",
              "        ...,\n",
              "        [-0.0324, -0.0168, -0.0019,  ..., -0.0182, -0.0202,  0.0023],\n",
              "        [-0.0248, -0.0267,  0.0284,  ...,  0.0239,  0.0244, -0.0117],\n",
              "        [-0.0054,  0.0096, -0.0209,  ...,  0.0333, -0.0040,  0.0320]],\n",
              "       requires_grad=True)"
            ]
          },
          "metadata": {},
          "execution_count": 83
        }
      ]
    },
    {
      "cell_type": "markdown",
      "source": [
        "SGD цикл обучения"
      ],
      "metadata": {
        "id": "fmPaBqOB2tOI"
      }
    },
    {
      "cell_type": "code",
      "source": [
        "epochs = 3\n",
        "lr=1e-2\n",
        "history = []"
      ],
      "metadata": {
        "id": "vDOc3iUB2qP1"
      },
      "execution_count": 84,
      "outputs": []
    },
    {
      "cell_type": "code",
      "source": [
        "import numpy as np\n",
        "from torch.nn.functional import cross_entropy\n",
        "\n",
        "#КРОСС-ЭНТРОПИЯ ЗДЕСЬ БЕРЁТСЯ ОТ ЛОГИТОВ, А НЕ ОТ ВЕРОЯТНОСТЕЙ!"
      ],
      "metadata": {
        "id": "ZfiIGcW42to1"
      },
      "execution_count": 85,
      "outputs": []
    },
    {
      "cell_type": "code",
      "source": [
        "for i in range(epochs):\n",
        "  for x_batch, y_batch in train_loader:\n",
        "    \n",
        "    # загружаем батч данных (вытянутый в линию)\n",
        "    x_batch = x_batch.reshape(x_batch.shape[0], -1)\n",
        "\n",
        "    # вычисляем функцию потерь (log loss, также известная как кросс-энтропия)\n",
        "    logits = x_batch @ W\n",
        "    probabilities = torch.exp(logits) / torch.exp(logits).sum(dim=1, keepdims=True)\n",
        "    \n",
        "    loss = -torch.log(probabilities[range(batch_size), y_batch]).mean()\n",
        "    history.append(loss.item())\n",
        "\n",
        "    # вычисляем градиенты\n",
        "    loss.backward()\n",
        "\n",
        "    # делаем шаг градиентного спуска\n",
        "    grad = W.grad\n",
        "    with torch.no_grad():\n",
        "      W -= lr * grad\n",
        "    W.grad.zero_()\n",
        "\n",
        "  print(f'{i+1},\\t loss: {history[-1]}')"
      ],
      "metadata": {
        "colab": {
          "base_uri": "https://localhost:8080/"
        },
        "id": "hb3sJ4zT2ut-",
        "outputId": "c3fd0fdb-3aaa-437e-9e41-aad6c98d027f"
      },
      "execution_count": 86,
      "outputs": [
        {
          "output_type": "stream",
          "name": "stdout",
          "text": [
            "1,\t loss: 0.20080657303333282\n",
            "2,\t loss: 0.14336349070072174\n",
            "3,\t loss: 0.12229496985673904\n"
          ]
        }
      ]
    },
    {
      "cell_type": "code",
      "source": [
        "plt.figure(figsize=(10, 7))\n",
        "\n",
        "plt.plot(history)\n",
        "\n",
        "plt.title('Loss by batch iterations')\n",
        "plt.ylabel('Entropy Loss')\n",
        "plt.xlabel('batches')\n",
        "\n",
        "plt.show()"
      ],
      "metadata": {
        "colab": {
          "base_uri": "https://localhost:8080/",
          "height": 458
        },
        "id": "6bMlrVUa2wd0",
        "outputId": "388aabed-a85c-45e3-cbde-0744620686b5"
      },
      "execution_count": 87,
      "outputs": [
        {
          "output_type": "display_data",
          "data": {
            "text/plain": [
              "<Figure size 720x504 with 1 Axes>"
            ],
            "image/png": "[encoded data removed]"
          },
          "metadata": {
            "needs_background": "light"
          }
        }
      ]
    },
    {
      "cell_type": "code",
      "source": [
        "from sklearn.metrics import accuracy_score"
      ],
      "metadata": {
        "id": "zeAr7PvF2yk1"
      },
      "execution_count": 88,
      "outputs": []
    },
    {
      "cell_type": "code",
      "source": [
        "acc = 0\n",
        "batches = 0\n",
        "\n",
        "for x_batch, y_batch in test_loader:\n",
        "  # загружаем батч данных (вытянутый в линию)\n",
        "  batches += 1\n",
        "  x_batch = x_batch.view(x_batch.shape[0], -1)\n",
        "  y_batch = y_batch\n",
        "\n",
        "  preds = torch.argmax(x_batch @ W, dim=1)\n",
        "  acc += (preds==y_batch).cpu().numpy().mean()\n",
        "\n",
        "print(f'Test accuracy {acc / batches:.3}')"
      ],
      "metadata": {
        "colab": {
          "base_uri": "https://localhost:8080/"
        },
        "id": "YhvIplnl20QD",
        "outputId": "d9a5e2c5-9a6e-4e57-e688-18bcc814b7d7"
      },
      "execution_count": 89,
      "outputs": [
        {
          "output_type": "stream",
          "name": "stdout",
          "text": [
            "Test accuracy 0.9\n"
          ]
        }
      ]
    },
    {
      "cell_type": "markdown",
      "source": [
        "## Модель\n",
        "\n",
        "PyTorch - это гибкий фреймворк для построения любой нейронной сети.\n",
        "\n",
        "Вот таблица сравнения:\n",
        "\n",
        "```\n",
        "| API             | Flexibility | Convenience |,\n",
        "|-----------------|-------------|-------------|,\n",
        "| Barebone        | High        | Low         |,\n",
        "| `nn.Module`     | High        | Medium      |,\n",
        "| `nn.Sequential` | Low         | High        |\n",
        "```"
      ],
      "metadata": {
        "id": "_z9x0N8S28XF"
      }
    },
    {
      "cell_type": "markdown",
      "source": [
        "1. barebone - это подход, при котором мы напрямую манипулируем тернсорами. В приведенном выше примере у нас была целевая функция, напрямую выраженная весами. Если мы реализумем этот метод с использованием классов, мы получим API такого уровня: **На этом уровне мы сами кодируем модули**\n",
        "\n",
        "2. [`nn.Module`] (https://pytorch.org/docs/stable/nn.html) - родительский класс для многих модулей, представленных PyTorch. Их много. Их достаточно, чтобы использовать их в готовом виде с необходимыми параметрами. В основном мы используем:\n",
        "\n",
        "- `nn.Linear`\n",
        "- `nn.Softmax`, `nn.LogSoftmax`\n",
        "- `nn.ReLU`, `nn.ELU`, `nn.LeakyReLU`\n",
        "- `nn.Tanh`, `nn.Sigmoid`\n",
        "- `nn.LSTM`, `nn.GRU`\n",
        "- `nn.Conv1d`, `nn.Conv2d`\n",
        "- `nn.MaxPool1d`, `nn.AdaptiveMaxPool1d` and others pooling\n",
        "- `nn.BatchNorm1d`, `nn.BatchNorm2d`\n",
        "- `nn.Dropout`\n",
        "- losses: `nn.CrossEntropyLoss`, `nn.NLLLoss`, `nn.MSELoss`\n",
        "- etc\n",
        "\n",
        "\n",
        "3. `nn.Sequential` - это не более чем последовательность различных модулей на основе` nn.Module`. Они инициируются списком модулей, где выходные данные одного модуля идут в качестве входных данных для следующего по порядку.\n",
        "\n",
        "\n",
        "Давайте **разработаем простую последовательность** для классификацию MNIST с использованием **модели** двух линейных слоев и `nn.Sequential`.\n"
      ],
      "metadata": {
        "id": "cN7-2v0a2-zW"
      }
    },
    {
      "cell_type": "code",
      "source": [
        "import torch.nn as nn\n",
        "from torchsummary import summary"
      ],
      "metadata": {
        "id": "Zc1uGSNL21ja"
      },
      "execution_count": 90,
      "outputs": []
    },
    {
      "cell_type": "code",
      "source": [
        "model = nn.Sequential(\n",
        "  nn.Linear(features, 64),\n",
        "  nn.ReLU(),\n",
        "  nn.Linear(64, classes)\n",
        "  \n",
        "  #НЕ НУЖНЕН СОФТМАКС\n",
        ")\n",
        "\n",
        "# It is the same as:\n",
        "#\n",
        "# model = nn.Sequential()\n",
        "# model.add_module('0', nn.Linear(features, 64))\n",
        "# model.add_module('1', nn.Linear(64, classes))\n",
        "\n",
        "model.to(device)"
      ],
      "metadata": {
        "colab": {
          "base_uri": "https://localhost:8080/"
        },
        "id": "ws1YnL_33BEC",
        "outputId": "54b33294-6170-4c53-d23e-ae7700ce60a3"
      },
      "execution_count": 91,
      "outputs": [
        {
          "output_type": "execute_result",
          "data": {
            "text/plain": [
              "Sequential(\n",
              "  (0): Linear(in_features=784, out_features=64, bias=True)\n",
              "  (1): ReLU()\n",
              "  (2): Linear(in_features=64, out_features=10, bias=True)\n",
              ")"
            ]
          },
          "metadata": {},
          "execution_count": 91
        }
      ]
    },
    {
      "cell_type": "code",
      "source": [
        "summary(model, (features,), batch_size=228)"
      ],
      "metadata": {
        "colab": {
          "base_uri": "https://localhost:8080/"
        },
        "id": "jIUTzlsr3CQe",
        "outputId": "c597545f-3b72-4647-a4b8-21fb0bd219fe"
      },
      "execution_count": 92,
      "outputs": [
        {
          "output_type": "stream",
          "name": "stdout",
          "text": [
            "----------------------------------------------------------------\n",
            "        Layer (type)               Output Shape         Param #\n",
            "================================================================\n",
            "            Linear-1                  [228, 64]          50,240\n",
            "              ReLU-2                  [228, 64]               0\n",
            "            Linear-3                  [228, 10]             650\n",
            "================================================================\n",
            "Total params: 50,890\n",
            "Trainable params: 50,890\n",
            "Non-trainable params: 0\n",
            "----------------------------------------------------------------\n",
            "Input size (MB): 0.68\n",
            "Forward/backward pass size (MB): 0.24\n",
            "Params size (MB): 0.19\n",
            "Estimated Total Size (MB): 1.12\n",
            "----------------------------------------------------------------\n"
          ]
        }
      ]
    },
    {
      "cell_type": "markdown",
      "source": [
        "## Обучение\n",
        "\n",
        "Как известно, при решении проблемы важны следующие **3 вещи**:\n",
        "\n",
        "1. Модель\n",
        "2. Цель (функция потерь / loss)\n",
        "3. Оптимизация (для параметров модели)\n",
        "\n",
        "Хорошо, все, что мы должны делать при использовании PyTorch, - это** определить следующие 3 вещи**:\n",
        "\n",
        "1. Модель: из API `nn.Module`\n",
        "2. Функция потерь (loss): опять же, `nn.Module` или [` nn.functional`] (https://pytorch.org/docs/stable/nn.functional.html) API.\n",
        "3. Оптимизатор: основан на [`torch.optim.Optimizer`] (https://pytorch.org/docs/stable/optim.html).\n",
        "\n",
        "\n",
        "\n",
        "В предыдущих задачах, когда дело доходило до оптимизации параметров, мы использовали **явное решения или градиентный спуск**\n",
        "\n",
        "Конечно, есть множество улучшений градиентного спуска. Он может использовать **адаптивное значение шага**, **градиенты предыдущего шага** и другие. PyTorch также предоставляет несколько классов для оптимизации градиента. Они инициализируются с параметрами, которые они должны настроить для лучшего значения потерь, и во время спуска они делают шаг в методе спуска на основе градиента.\n",
        "\n",
        "Вот наиболее часто используемые оптимизаторы, на основе которых используется алгоритм спуска:\n",
        "\n",
        "- `torch.optim.Adam` использует как второй, так и первый импульс градиента, очень популярный благодаря своей скорости сходимости и простоте. [бумага] (https://arxiv.org/abs/1412.6980)\n",
        "\n",
        "- `torch.optim.SGD` - старый добрый стохастический градиентный спуск. Может использоваться с оптимизацией импульса Нестерова\n",
        "\n",
        "- `torch.optim.Adagrad` - [статья] (https://jmlr.org/papers/v12/duchi11a.html)\n",
        "\n",
        "- `torch.optim.RMSprop` - введено в [слайды] (https://www.cs.toronto.edu/~tijmen/csc321/slides/lecture_slides_lec6.pdf)\n"
      ],
      "metadata": {
        "id": "KnueanmS3Fsu"
      }
    },
    {
      "cell_type": "code",
      "source": [
        "criterion = nn.CrossEntropyLoss()      # (logsoftmax + negative likelihood) в своей основе применительно к логитам (logits)\n",
        "\n",
        "optimizer = torch.optim.Adam(model.parameters(), lr=1e-3, betas=(0.9, 0.99))"
      ],
      "metadata": {
        "id": "x7q8Q9II3DyG"
      },
      "execution_count": 93,
      "outputs": []
    },
    {
      "cell_type": "code",
      "source": [
        "for i in range(epochs):\n",
        "  for x_batch, y_batch in train_loader:\n",
        "    # 1. # загружаем батч данных (вытянутый в линию)\n",
        "    x_batch = x_batch.view(x_batch.shape[0], -1).to(device)\n",
        "    y_batch = y_batch.to(device)\n",
        "\n",
        "    # 2. вычисляем скор с помощью прямого распространения ( .forward or .__call__ )\n",
        "    logits = model(x_batch)\n",
        "\n",
        "    # 3. вычислеяем - функцию потерь (loss)\n",
        "    loss = criterion(logits, y_batch)\n",
        "    history.append(loss.item())\n",
        "\n",
        "    # 4. вычисляем градиенты\n",
        "    optimizer.zero_grad()\n",
        "    loss.backward()\n",
        "\n",
        "    # 5. шаг градиентного спуска\n",
        "    optimizer.step()\n",
        "\n",
        "  print(f'{i+1},\\t loss: {history[-1]}')"
      ],
      "metadata": {
        "colab": {
          "base_uri": "https://localhost:8080/"
        },
        "id": "Tlg7RYpv3Jyw",
        "outputId": "584f79ea-9f27-4ea0-bef4-b19f8b7ad3a8"
      },
      "execution_count": 94,
      "outputs": [
        {
          "output_type": "stream",
          "name": "stdout",
          "text": [
            "1,\t loss: 0.09195239841938019\n",
            "2,\t loss: 0.061755575239658356\n",
            "3,\t loss: 0.050780609250068665\n"
          ]
        }
      ]
    },
    {
      "cell_type": "code",
      "source": [
        "plt.figure(figsize=(10, 7))\n",
        "\n",
        "plt.plot(history)\n",
        "\n",
        "plt.title('Loss by batch iterations')\n",
        "plt.ylabel('Entropy Loss')\n",
        "plt.xlabel('batches')\n",
        "\n",
        "plt.show()"
      ],
      "metadata": {
        "colab": {
          "base_uri": "https://localhost:8080/",
          "height": 458
        },
        "id": "wJaTQ0jL3NFo",
        "outputId": "815cde57-7f6c-44d9-c783-665371b72706"
      },
      "execution_count": 95,
      "outputs": [
        {
          "output_type": "display_data",
          "data": {
            "text/plain": [
              "<Figure size 720x504 with 1 Axes>"
            ],
            "image/png": "[encoded data removed]"
          },
          "metadata": {
            "needs_background": "light"
          }
        }
      ]
    },
    {
      "cell_type": "code",
      "source": [
        "acc = 0\n",
        "batches = 0\n",
        "\n",
        "for x_batch, y_batch in test_loader:\n",
        "  # загружаем батч данных (вытянутый в линию)\n",
        "  batches += 1\n",
        "  x_batch = x_batch.view(x_batch.shape[0], -1).to(device)\n",
        "  y_batch = y_batch.to(device)\n",
        "\n",
        "  preds = torch.argmax(model(x_batch), dim=1)\n",
        "  acc += (preds==y_batch).cpu().numpy().mean()\n",
        "\n",
        "print(f'Test accuracy {acc / batches:.3}')"
      ],
      "metadata": {
        "colab": {
          "base_uri": "https://localhost:8080/"
        },
        "id": "C9YIKfIJ3PD5",
        "outputId": "246aebfe-6565-42ed-eb1c-547b2cb14392"
      },
      "execution_count": 96,
      "outputs": [
        {
          "output_type": "stream",
          "name": "stdout",
          "text": [
            "Test accuracy 0.935\n"
          ]
        }
      ]
    },
    {
      "cell_type": "markdown",
      "source": [
        "## Резюмируем!\n",
        "\n",
        "Мы построили и обучили простейшую нейронную сеть. Это было сделано путем определения:\n",
        "\n",
        "1. `Модели`\n",
        "2. \"Критерия (Лосса)\"\n",
        "1. `Оптимизатора`\n",
        "\n",
        "Запомните эти шаги, необходимые во время обучения одного батча данных:\n",
        "\n",
        "1. загрузить батч\n",
        "2. выполнить прямой проход модели (получить «логиты» / выходы модели)\n",
        "3. рассчитать `loss` (используя критерий и «логиты» и истинные метки партии)\n",
        "4. выполнить `loss.backward ()` (вычислить градиенты функции потери относительно параметров модели)\n",
        "5. выполнить шаг оптимизации (`optimizer.step ()`)\n",
        "* обнуляйте градиенты (производите в любой момент, но не между шагами 4 и 5)\n",
        "* проверка (валидация) (после каждой эпохи)\n",
        "\n"
      ],
      "metadata": {
        "id": "eSrMO8fi3UPF"
      }
    }
  ]
}